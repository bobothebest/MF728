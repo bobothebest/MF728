{
 "cells": [
  {
   "cell_type": "markdown",
   "id": "cfaad56b-945e-40f8-9e80-6390720b2141",
   "metadata": {},
   "source": [
    "## MF 728: Fixed Income"
   ]
  },
  {
   "cell_type": "markdown",
   "id": "acbcabe0-5074-42a7-a531-631d67c14a22",
   "metadata": {},
   "source": [
    "### Problem set # 1"
   ]
  },
  {
   "cell_type": "markdown",
   "id": "d61f4add-3bf2-4376-bba1-82b45d7e29d5",
   "metadata": {},
   "source": [
    "#### 1. Yield Curve Construction:\n",
    "Consider the following table of USD swap rates:\n",
    "\n",
    "| Term | Rate (%) |\n",
    "|------|----------|\n",
    "| 1Y   | 2.8438   |\n",
    "| 2Y   | 3.060    |\n",
    "| 3Y   | 3.126    |\n",
    "| 4Y   | 3.144    |\n",
    "| 5Y   | 3.150    |\n",
    "| 7Y   | 3.169    |\n",
    "| 10Y  | 3.210    |\n",
    "| 30Y  | 3.237    |\n",
    "\n",
    "Note: You may assume that these swaps pay coupons semi-annually (every 6 months). For simplicity, you may use a year fraction of 0.5 in all swap coupon payments.\n"
   ]
  },
  {
   "cell_type": "markdown",
   "id": "d133c2df-6837-4686-bb9b-46d3511f415a",
   "metadata": {},
   "source": [
    "##### (a) Extract the constant forward rate for the first year that enables you to match the 1Y market swap rate."
   ]
  },
  {
   "cell_type": "code",
   "execution_count": 2,
   "id": "dab9b318-5e90-4150-a6d9-34a4a26c9ce9",
   "metadata": {},
   "outputs": [],
   "source": [
    "import numpy as np\n",
    "from scipy.optimize import fsolve"
   ]
  },
  {
   "cell_type": "code",
   "execution_count": 13,
   "id": "990c83fd-7bbc-467c-8bc9-4fb13113f9a9",
   "metadata": {},
   "outputs": [],
   "source": [
    "import numpy as np\n",
    "from scipy.optimize import fsolve\n",
    "\n",
    "# 将原来的内部函数转换为独立函数\n",
    "def swap_present_value(f1, sw1):\n",
    "    # 计算现值PV\n",
    "    PV = 0.5 * sw1 / (1 + 0.5 * f1) + 0.5 * sw1 / (1 + 0.5 * f1)**2\n",
    "    # 返回PV和远期利率计算的差值\n",
    "    return PV - 0.5 * f1 / (1 + 0.5 * f1) - 0.5 * f1 / (1 + 0.5 * f1)**2\n",
    "\n",
    "# 修改后的swap_to_forward_1Y函数，使用args参数传递额外的sw1参数\n",
    "def swap_to_forward_1Y(sw1):\n",
    "    # fsolve现在调用swap_present_value函数，并传递sw1作为参数\n",
    "    forward_rate = fsolve(swap_present_value, x0=sw1, args=(sw1,))\n",
    "    return forward_rate[0]"
   ]
  },
  {
   "cell_type": "code",
   "execution_count": 55,
   "id": "f427ccba-980f-4458-95e6-af48b2a37847",
   "metadata": {},
   "outputs": [
    {
     "name": "stdout",
     "output_type": "stream",
     "text": [
      "0.028437999999999998\n"
     ]
    }
   ],
   "source": [
    "# 示例调用\n",
    "f1 = swap_to_forward_1Y(2.8438 / 100)\n",
    "print(f1)"
   ]
  },
  {
   "cell_type": "markdown",
   "id": "da5bbddc-959c-4fd4-9a47-5d1f1cf45ffb",
   "metadata": {},
   "source": [
    "##### (b) Holding this first year forward rate fixed, find the forward rate from one year to two years that enables you to match the two year swap (while also matching the one year)."
   ]
  },
  {
   "cell_type": "code",
   "execution_count": 56,
   "id": "23fd5464-a2c6-4b8c-9c64-b8fa7c89b21e",
   "metadata": {},
   "outputs": [
    {
     "data": {
      "text/plain": [
       "(0.03283113038626899, 0.9410092691367571)"
      ]
     },
     "execution_count": 56,
     "metadata": {},
     "output_type": "execute_result"
    }
   ],
   "source": [
    "# 独立的函数计算两年期掉期的现值差异\n",
    "def swap_present_value(f2, sw2, f1):\n",
    "    # 计算掉期支付的现值\n",
    "    PV1 = sw2 / (1 + 0.5 * f1) + sw2 / (1 + 0.5 * f1)**2 + sw2 / ((1 + 0.5 * f1)**2 * (1 + 0.5 * f2)) + sw2 / ((1 + 0.5 * f1)**2 * (1 + 0.5 * f2)**2)\n",
    "    # 计算远期利率支付的现值\n",
    "    PV2 = f1 / (1 + 0.5 * f1) + f1 / (1 + 0.5 * f1)**2 + f2 / ((1 + 0.5 * f1)**2 * (1 + 0.5 * f2)) + f2 / ((1 + 0.5 * f1)**2 * (1 + 0.5 * f2)**2)\n",
    "    # 返回现值差异\n",
    "    return PV1 - PV2\n",
    "\n",
    "# 函数用于求解第二年的远期利率\n",
    "def swap_to_forward_2Y(sw2, f1):\n",
    "    # 使用fsolve求解第二年的远期利率\n",
    "    forward_rate_2Y = fsolve(swap_present_value, x0=sw2, args=(sw2, f1))\n",
    "    return forward_rate_2Y[0]\n",
    "\n",
    "# 使用上一步计算的第一年远期利率f1\n",
    "f1 = 2.8438 / 100  # 示例中给出的第一年远期利率\n",
    "# 计算第二年的远期利率\n",
    "f2 = swap_to_forward_2Y(3.060 / 100, f1)\n",
    "# 计算第二年的贴现因子\n",
    "D1 = 1 / ((1 + 0.5 * f1)**2)  # 从前一步骤继承D1的计算\n",
    "D2 = D1 / ((1 + 0.5 * f2)**2)\n",
    "\n",
    "f2, D2\n"
   ]
  },
  {
   "cell_type": "markdown",
   "id": "e9a983f9-ee39-4cd9-b0a1-f1502bc24da2",
   "metadata": {},
   "source": [
    "##### (c) Continue this process and extract piecewise constant forward rates for the entire curve. Comment on the forward rates vs. the swap rates."
   ]
  },
  {
   "cell_type": "code",
   "execution_count": 21,
   "id": "0071815d-4890-4262-b489-4d8e082e7ef0",
   "metadata": {},
   "outputs": [
    {
     "data": {
      "text/plain": [
       "[0.028437999999999998,\n",
       " 0.03283113038626899,\n",
       " 0.03264530551203545,\n",
       " 0.03201590223021911,\n",
       " 0.031760049949048276,\n",
       " 0.03222150590023792,\n",
       " 0.033225985137036694,\n",
       " 0.03258650990142389]"
      ]
     },
     "execution_count": 21,
     "metadata": {},
     "output_type": "execute_result"
    }
   ],
   "source": [
    "def swap_to_forward_3Y(sw3,f1,f2):\n",
    "    def swap_present_value(f3):\n",
    "        PV=sw3/(1+0.5*f1)+sw3/(1+0.5*f1)**2+sw3/((1+0.5*f1)**2*(1+0.5*f2))+sw3/((1+0.5*f1)**2*(1+0.5*f2)**2)+sw3/((1+0.5*f1)**2*(1+0.5*f2)**2*(1+f3*0.5))+sw3/((1+0.5*f1)**2*(1+0.5*f2)**2*(1+0.5*f3)**2)\n",
    "        PV2=f1/(1+0.5*f1)+f1/(1+0.5*f1)**2+f2/((1+0.5*f1)**2*(1+0.5*f2))+f2/((1+0.5*f1)**2*(1+0.5*f2)**2)+f3/((1+0.5*f1)**2*(1+0.5*f2)**2*(1+f3*0.5))+f3/((1+0.5*f1)**2*(1+0.5*f2)**2*(1+0.5*f3)**2)\n",
    "        return PV- PV2\n",
    "    forward_rate_3Y = fsolve(swap_present_value, sw3)\n",
    "    return forward_rate_3Y[0]  \n",
    "f3=swap_to_forward_3Y(0.03126, f1, f2)\n",
    "D3=D2/(1+0.5*f3)**2\n",
    "\n",
    "def swap_to_forward_4Y(sw4,f1,f2,f3):\n",
    "    def swap_present_value(f4):\n",
    "        PV=sw4/(1+0.5*f1)+sw4/(1+0.5*f1)**2+sw4/((1+0.5*f1)**2*(1+0.5*f2))+sw4/((1+0.5*f1)**2*(1+0.5*f2)**2)+sw4/((1+0.5*f1)**2*(1+0.5*f2)**2*(1+f3*0.5))+sw4/((1+0.5*f1)**2*(1+0.5*f2)**2*(1+0.5*f3)**2)+sw4/((1+0.5*f1)**2*(1+0.5*f2)**2*(1+0.5*f3)**2*(1+0.5*f4))+sw4/((1+0.5*f1)**2*(1+0.5*f2)**2*(1+0.5*f3)**2*(1+0.5*f4)**2)\n",
    "        PV2=f1/(1+0.5*f1)+f1/(1+0.5*f1)**2+f2/((1+0.5*f1)**2*(1+0.5*f2))+f2/((1+0.5*f1)**2*(1+0.5*f2)**2)+f3/((1+0.5*f1)**2*(1+0.5*f2)**2*(1+f3*0.5))+f3/((1+0.5*f1)**2*(1+0.5*f2)**2*(1+0.5*f3)**2)+f4/((1+0.5*f1)**2*(1+0.5*f2)**2*(1+0.5*f3)**2*(1+0.5*f4))+f4/((1+0.5*f1)**2*(1+0.5*f2)**2*(1+0.5*f3)**2*(1+0.5*f4)**2)\n",
    "        return PV- PV2\n",
    "    forward_rate_4Y = fsolve(swap_present_value, sw4)\n",
    "    return forward_rate_4Y[0]  \n",
    "f4=swap_to_forward_4Y(0.03144, f1, f2,f3)\n",
    "D4=D3/(1+0.5*f4)**2\n",
    "\n",
    "def swap_to_forward_5Y(sw5,f1,f2,f3,f4):\n",
    "    def swap_present_value(f5):\n",
    "        PV=sw5*sum((1+0.5*f1)**-i for i in range(1,3))+sw5/((1+0.5*f1)**2*(1+0.5*f2))+sw5/((1+0.5*f1)**2*(1+0.5*f2)**2)+sw5/((1+0.5*f1)**2*(1+0.5*f2)**2*(1+f3*0.5))+sw5/((1+0.5*f1)**2*(1+0.5*f2)**2*(1+0.5*f3)**2)+sw5/((1+0.5*f1)**2*(1+0.5*f2)**2*(1+0.5*f3)**2*(1+0.5*f4))+sw5/((1+0.5*f1)**2*(1+0.5*f2)**2*(1+0.5*f3)**2*(1+0.5*f4)**2)+sw5/((1+0.5*f1)**2*(1+0.5*f2)**2*(1+0.5*f3)**2*(1+0.5*f4)**2*(1+0.5*f5))+sw5/((1+0.5*f1)**2*(1+0.5*f2)**2*(1+0.5*f3)**2*(1+0.5*f4)**2*(1+0.5*f5)**2)\n",
    "        PV2=f1/(1+0.5*f1)+f1/(1+0.5*f1)**2+f2/((1+0.5*f1)**2*(1+0.5*f2))+f2/((1+0.5*f1)**2*(1+0.5*f2)**2)+f3/((1+0.5*f1)**2*(1+0.5*f2)**2*(1+f3*0.5))+f3/((1+0.5*f1)**2*(1+0.5*f2)**2*(1+0.5*f3)**2)+f4/((1+0.5*f1)**2*(1+0.5*f2)**2*(1+0.5*f3)**2*(1+0.5*f4))+f4/((1+0.5*f1)**2*(1+0.5*f2)**2*(1+0.5*f3)**2*(1+0.5*f4)**2)+f5/((1+0.5*f1)**2*(1+0.5*f2)**2*(1+0.5*f3)**2*(1+0.5*f4)**2*(1+0.5*f5))+f5/((1+0.5*f1)**2*(1+0.5*f2)**2*(1+0.5*f3)**2*(1+0.5*f4)**2*(1+0.5*f5)**2)\n",
    "        return PV- PV2\n",
    "    forward_rate_5Y = fsolve(swap_present_value, sw5)\n",
    "    return forward_rate_5Y[0]  \n",
    "f5=swap_to_forward_5Y(0.0315, f1, f2,f3,f4)\n",
    "D5=D4/(1+0.5*f5)**2\n",
    "def swap_to_forward_7Y(sw7,f1,f2,f3,f4,f5):\n",
    "    def swap_present_value(f7):\n",
    "        PV=sw7*sum((1+0.5*f1)**-i for i in range(1,3))+sw7*D1*sum((1+0.5*f2)**-i for i in range(1,3))+sw7*D2*sum((1+0.5*f3)**-i for i in range(1,3))+sw7*D3*sum((1+0.5*f4)**-i for i in range(1,3))+sw7*D4*sum((1+0.5*f5)**-i for i in range(1,3))+sw7*D5*sum((1+0.5*f7)**-i for i in range(1,5))\n",
    "        PV2=f1*sum((1+0.5*f1)**-i for i in range(1,3))+f2*D1*sum((1+0.5*f2)**-i for i in range(1,3))+f3*D2*sum((1+0.5*f3)**-i for i in range(1,3))+f4*D3*sum((1+0.5*f4)**-i for i in range(1,3))+f5*D4*sum((1+0.5*f5)**-i for i in range(1,3))+f7*D5*sum((1+0.5*f7)**-i for i in range(1,5))\n",
    "        return PV- PV2\n",
    "    forward_rate_7Y = fsolve(swap_present_value, sw7)\n",
    "    return forward_rate_7Y[0]  \n",
    "f7=swap_to_forward_7Y(0.03169, f1, f2,f3,f4,f5)\n",
    "D7=D5/(1+f7*0.5)**4\n",
    "\n",
    "def swap_to_forward_10Y(sw10,f1,f2,f3,f4,f5,f7):\n",
    "    def swap_present_value(f10):\n",
    "        PV=sw10*sum((1+0.5*f1)**-i for i in range(1,3))+sw10*D1*sum((1+0.5*f2)**-i for i in range(1,3))+sw10*D2*sum((1+0.5*f3)**-i for i in range(1,3))+sw10*D3*sum((1+0.5*f4)**-i for i in range(1,3))+sw10*D4*sum((1+0.5*f5)**-i for i in range(1,3))+sw10*D5*sum((1+0.5*f7)**-i for i in range(1,5))+sw10*D7*sum((1+0.5*f10)**-i for i in range(1,7))\n",
    "        PV2=f1*sum((1+0.5*f1)**-i for i in range(1,3))+f2*D1*sum((1+0.5*f2)**-i for i in range(1,3))+f3*D2*sum((1+0.5*f3)**-i for i in range(1,3))+f4*D3*sum((1+0.5*f4)**-i for i in range(1,3))+f5*D4*sum((1+0.5*f5)**-i for i in range(1,3))+f7*D5*sum((1+0.5*f7)**-i for i in range(1,5))+f10*D7*sum((1+0.5*f10)**-i for i in range(1,7))\n",
    "        return PV- PV2\n",
    "    forward_rate_10Y = fsolve(swap_present_value, sw10)\n",
    "    return forward_rate_10Y[0]  \n",
    "f10=swap_to_forward_10Y(0.0321, f1, f2,f3,f4,f5,f7)\n",
    "D10=D7/(1+f10*0.5)**6\n",
    "\n",
    "def swap_to_forward_30Y(sw30,f1,f2,f3,f4,f5,f7,f30):\n",
    "    def swap_present_value(f30):\n",
    "        PV=sw30*sum((1+0.5*f1)**-i for i in range(1,3))+sw30*D1*sum((1+0.5*f2)**-i for i in range(1,3))+sw30*D2*sum((1+0.5*f3)**-i for i in range(1,3))+sw30*D3*sum((1+0.5*f4)**-i for i in range(1,3))+sw30*D4*sum((1+0.5*f5)**-i for i in range(1,3))+sw30*D5*sum((1+0.5*f7)**-i for i in range(1,5))+sw30*D7*sum((1+0.5*f10)**-i for i in range(1,7))+sw30*D10*sum((1+0.5*f30)**-i for i in range(1,41))\n",
    "        PV2=f1*sum((1+0.5*f1)**-i for i in range(1,3))+f2*D1*sum((1+0.5*f2)**-i for i in range(1,3))+f3*D2*sum((1+0.5*f3)**-i for i in range(1,3))+f4*D3*sum((1+0.5*f4)**-i for i in range(1,3))+f5*D4*sum((1+0.5*f5)**-i for i in range(1,3))+f7*D5*sum((1+0.5*f7)**-i for i in range(1,5))+f10*D7*sum((1+0.5*f10)**-i for i in range(1,7))+f30*D10*sum((1+0.5*f30)**-i for i in range(1,41))\n",
    "        return PV- PV2\n",
    "    forward_rate_30Y = fsolve(swap_present_value, sw30)\n",
    "    return forward_rate_30Y[0]  \n",
    "f30=swap_to_forward_30Y(0.03237, f1, f2,f3,f4,f5,f7,f10)\n",
    "D30=D10/(1+f30*0.5)**20\n",
    "\n",
    "f_list=[f1,f2,f3,f4,f5,f7,f10,f30]\n",
    "f_list"
   ]
  },
  {
   "cell_type": "code",
   "execution_count": 46,
   "id": "35e5214f-8f38-4687-9926-7f2ff7d97090",
   "metadata": {},
   "outputs": [
    {
     "name": "stdout",
     "output_type": "stream",
     "text": [
      "[0.1714506]\n",
      "[0.1714506]\n",
      "[0.1714506]\n",
      "[0.1714506]\n",
      "[0.17805679]\n",
      "[0.17807464]\n",
      "[0.17807469]\n",
      "[0.17807469]\n"
     ]
    },
    {
     "data": {
      "text/plain": [
       "(0.034949241677597824, 0.9089640997050304)"
      ]
     },
     "execution_count": 46,
     "metadata": {},
     "output_type": "execute_result"
    }
   ],
   "source": [
    "# 独立的函数计算三年期掉期的现值差异\n",
    "def swap_present_value_3Y(f3, sw3, f1, f2):\n",
    "    # 计算掉期支付的现值\n",
    "    PV1 = sw3 / (1 + 0.5 * f1) + sw3 / (1 + 0.5 * f1)**2 + sw3 / ((1 + 0.5 * f1)**2 * (1 + 0.5 * f2)) + sw3 / ((1 + 0.5 * f1)**2 * (1 + 0.5 * f2)**2) + sw3 / ((1 + 0.5 * f1)**2 * (1 + 0.5 * f2)**2 * (1 + 0.5 * f3)) + sw3 / ((1 + 0.5 * f1)**2 * (1 + 0.5 * f2)**2 * (1 + 0.5 * f3)**2)\n",
    "    #print(PV1)\n",
    "    # 计算远期利率支付的现值\n",
    "    PV2 = f1 / (1 + 0.5 * f1) + f1 / (1 + 0.5 * f1)**2 + f2 / ((1 + 0.5 * f1)**2 * (1 + 0.5 * f2)) + f2 / ((1 + 0.5 * f1)**2 * (1 + 0.5 * f2)**2) + f3 / ((1 + 0.5 * f1)**2 * (1 + 0.5 * f2)**2 * (1 + 0.5 * f3)) + f3 / ((1 + 0.5 * f1)**2 * (1 + 0.5 * f2)**2 * (1 + 0.5 * f3)**2)\n",
    "    print(PV2)\n",
    "    # 返回现值差异\n",
    "    return PV1 - PV2\n",
    "\n",
    "'''\n",
    "# 假设f1, f2, f3是已知的远期利率，sw3是三年期掉期利率\n",
    "f1, f2, f3, sw3 = 0.028438, 0.03060, 0.03126, 0.03126  # 示例值\n",
    "\n",
    "# 初始化贴现因子列表\n",
    "discount_factors = [(1 + 0.5 * f1), (1 + 0.5 * f1)**2, (1 + 0.5 * f1)**2 * (1 + 0.5 * f2), (1 + 0.5 * f1)**2 * (1 + 0.5 * f2)**2, (1 + 0.5 * f1)**2 * (1 + 0.5 * f2)**2 * (1 + 0.5 * f3), (1 + 0.5 * f1)**2 * (1 + 0.5 * f2)**2 * (1 + 0.5 * f3)**2]\n",
    "\n",
    "# 计算PV1使用列表推导\n",
    "PV1 = sum(sw3 / factor for factor in discount_factors)\n",
    "print(PV1)\n",
    "'''\n",
    "# 函数用于求解第三年的远期利率\n",
    "def swap_to_forward_3Y(sw3, f1, f2):\n",
    "    # 使用fsolve求解第三年的远期利率\n",
    "    forward_rate_3Y = fsolve(swap_present_value_3Y, x0=sw3, args=(sw3, f1, f2))\n",
    "    return forward_rate_3Y[0]\n",
    "\n",
    "# 使用前两年计算的远期利率f1和f2\n",
    "sw3 = 3.126 / 100 \n",
    "\n",
    "# 计算第三年的远期利率\n",
    "f3 = swap_to_forward_3Y(sw3, f1, f2)\n",
    "\n",
    "# 计算第三年的贴现因子\n",
    "D3 = D2 / ((1 + 0.5 * f3)**2)\n",
    "\n",
    "f3, D3"
   ]
  },
  {
   "cell_type": "code",
   "execution_count": 42,
   "id": "2287f6d0-267c-46fe-9d9a-bfdee003af42",
   "metadata": {},
   "outputs": [
    {
     "data": {
      "text/plain": [
       "[1.014219,\n",
       " 1.0286401799609999,\n",
       " 1.0443783747144033,\n",
       " 1.0603573638475337,\n",
       " 1.0769307494444706,\n",
       " 1.0937631770582878]"
      ]
     },
     "execution_count": 42,
     "metadata": {},
     "output_type": "execute_result"
    }
   ],
   "source": [
    "# Correctly initializing given forward rates and swap rate\n",
    "f1, f2, f3, sw3 = 0.028438, 0.03060, 0.03126, 0.03126\n",
    "\n",
    "# Correct calculation for discount factors and summing for PV1\n",
    "discount_factors = [\n",
    "    (1 + 0.5 * f1),\n",
    "    (1 + 0.5 * f1)**2,\n",
    "    (1 + 0.5 * f1)**2 * (1 + 0.5 * f2),\n",
    "    (1 + 0.5 * f1)**2 * (1 + 0.5 * f2)**2,\n",
    "    (1 + 0.5 * f1)**2 * (1 + 0.5 * f2)**2 * (1 + 0.5 * f3),\n",
    "    (1 + 0.5 * f1)**2 * (1 + 0.5 * f2)**2 * (1 + 0.5 * f3)**2\n",
    "]\n",
    "\n",
    "# Calculating PV1 using list comprehension\n",
    "PV1 = sum(sw3 / factor for factor in discount_factors)\n",
    "\n",
    "PV1\n",
    "discount_factors"
   ]
  },
  {
   "cell_type": "code",
   "execution_count": null,
   "id": "7db45c4d-ecc6-4111-bcf8-272431b38cff",
   "metadata": {},
   "outputs": [],
   "source": []
  },
  {
   "cell_type": "code",
   "execution_count": 91,
   "id": "904d8eca-8711-4da4-badb-90a0f850e330",
   "metadata": {},
   "outputs": [
    {
     "name": "stdout",
     "output_type": "stream",
     "text": [
      "Discount Factor 1: (1 * (1 + 0.5 * f1))\n",
      "Discount Factor 2: (1 * (1 + 0.5 * f1) * (1 + 0.5 * f1))\n",
      "Discount Factor 3: (1 * (1 + 0.5 * f1) * (1 + 0.5 * f1) * (1 + 0.5 * f2))\n",
      "Discount Factor 4: (1 * (1 + 0.5 * f1) * (1 + 0.5 * f1) * (1 + 0.5 * f2) * (1 + 0.5 * f2))\n",
      "Discount Factor 5: (1 * (1 + 0.5 * f1) * (1 + 0.5 * f1) * (1 + 0.5 * f2) * (1 + 0.5 * f2) * (1 + 0.5 * f3))\n",
      "Discount Factor 6: (1 * (1 + 0.5 * f1) * (1 + 0.5 * f1) * (1 + 0.5 * f2) * (1 + 0.5 * f2) * (1 + 0.5 * f3) * (1 + 0.5 * f3))\n"
     ]
    }
   ],
   "source": [
    "def generate_discount_factors_expressions(years, f_rate_symbols):\n",
    "    \"\"\"\n",
    "    Generate expressions for discount factors over a given number of years, assuming semi-annual compounding.\n",
    "\n",
    "    Parameters:\n",
    "    - years: The number of years to generate discount factors for.\n",
    "    - f_rate_symbols: The symbols (as strings) representing the forward rates for each year.\n",
    "\n",
    "    Returns:\n",
    "    - A list of strings, each representing an expression for a discount factor.\n",
    "    \"\"\"\n",
    "    discount_factors_expressions = []\n",
    "    cumulative_expression = \"1\"  # Start with an initial value of 1 for the cumulative product\n",
    "\n",
    "    for i in range(years * 2):  # Multiply by 2 for semi-annual periods\n",
    "        if i < len(f_rate_symbols) * 2:  # Ensure we don't exceed the list of provided rate symbols\n",
    "            rate_symbol = f_rate_symbols[i // 2]  # Integer division to get the correct rate symbol\n",
    "            cumulative_expression += f\" * (1 + 0.5 * {rate_symbol})\"\n",
    "        else:\n",
    "            # If we run out of rate symbols, just repeat the last one\n",
    "            rate_symbol = f_rate_symbols[-1]\n",
    "            cumulative_expression += f\" * (1 + 0.5 * {rate_symbol})\"\n",
    "        \n",
    "        # For each period, create a new discount factor expression\n",
    "        discount_factors_expressions.append(f\"({cumulative_expression})\")\n",
    "\n",
    "    return discount_factors_expressions\n",
    "\n",
    "# Example usage\n",
    "years = 3  # Generating discount factors for 3 years\n",
    "f_rate_symbols = [\"f1\", \"f2\", \"f3\"]  # Symbols for forward rates for each year\n",
    "\n",
    "# Generate the expressions\n",
    "discount_factors_expressions = generate_discount_factors_expressions(years, f_rate_symbols)\n",
    "\n",
    "# Printing each expression for demonstration\n",
    "for i, expression in enumerate(discount_factors_expressions, start=1):\n",
    "    print(f\"Discount Factor {i}: {expression}\")\n"
   ]
  },
  {
   "cell_type": "code",
   "execution_count": 92,
   "id": "c1cb8e6c-4964-4474-b1a7-98eafc0645d7",
   "metadata": {},
   "outputs": [
    {
     "name": "stdout",
     "output_type": "stream",
     "text": [
      "PV2 = f1 / (1 * (1 + 0.5 * f1)) + f1 / (1 * (1 + 0.5 * f1) * (1 + 0.5 * f1)) + f2 / (1 * (1 + 0.5 * f1) * (1 + 0.5 * f1) * (1 + 0.5 * f2)) + f2 / (1 * (1 + 0.5 * f1) * (1 + 0.5 * f1) * (1 + 0.5 * f2) * (1 + 0.5 * f2)) + f3 / (1 * (1 + 0.5 * f1) * (1 + 0.5 * f1) * (1 + 0.5 * f2) * (1 + 0.5 * f2) * (1 + 0.5 * f3)) + f3 / (1 * (1 + 0.5 * f1) * (1 + 0.5 * f1) * (1 + 0.5 * f2) * (1 + 0.5 * f2) * (1 + 0.5 * f3) * (1 + 0.5 * f3))\n"
     ]
    }
   ],
   "source": [
    "def generate_dynamic_pv2_expression(years, f_rate_symbols):\n",
    "    \"\"\"\n",
    "    Generate a dynamic expression for calculating PV2 based on a given number of years and\n",
    "    symbols representing forward rates, assuming semi-annual compounding.\n",
    "\n",
    "    Parameters:\n",
    "    - years: The number of years to generate PV2 expression for.\n",
    "    - f_rate_symbols: The symbols (as strings) representing the forward rates for each year.\n",
    "\n",
    "    Returns:\n",
    "    - A string representing the dynamic expression to calculate PV2.\n",
    "    \"\"\"\n",
    "    # Generate discount factors expressions for the given years\n",
    "    discount_factors_expressions = generate_discount_factors_expressions(years, f_rate_symbols)\n",
    "    \n",
    "    # Initialize the list to hold each term's expression for PV2\n",
    "    pv2_terms_expressions = []\n",
    "\n",
    "    # Iterate through each discount factor expression to create the PV2 terms\n",
    "    for i in range(len(discount_factors_expressions)):\n",
    "        rate_symbol = f_rate_symbols[min(i // 2, len(f_rate_symbols)-1)]  # Ensure index is within bounds\n",
    "        term_expression = f\"{rate_symbol} / {discount_factors_expressions[i]}\"\n",
    "        pv2_terms_expressions.append(term_expression)\n",
    "\n",
    "    # Join all terms to form the final PV2 expression\n",
    "    pv2_expression = \"PV2 = \" + \" + \".join(pv2_terms_expressions)\n",
    "\n",
    "    return pv2_expression\n",
    "\n",
    "# Example usage\n",
    "years = 3  # Generating PV2 expression for 3 years\n",
    "f_rate_symbols = [\"f1\", \"f2\", \"f3\"]  # Symbols for forward rates for each year\n",
    "\n",
    "# Generate the PV2 expression\n",
    "pv2_expression = generate_dynamic_pv2_expression(years, f_rate_symbols)\n",
    "\n",
    "print(pv2_expression)\n"
   ]
  },
  {
   "cell_type": "markdown",
   "id": "0646a695-ed6f-4dc8-bf00-8705937543ec",
   "metadata": {},
   "source": [
    "PV2 = f1 / (1 + 0.5 * f1) + f1 / (1 + 0.5 * f1)**2 + f2 / ((1 + 0.5 * f1)**2 * (1 + 0.5 * f2)) + f2 / ((1 + 0.5 * f1)**2 * (1 + 0.5 * f2)**2) + f3 / ((1 + 0.5 * f1)**2 * (1 + 0.5 * f2)**2 * (1 + 0.5 * f3)) + f3 / ((1 + 0.5 * f1)**2 * (1 + 0.5 * f2)**2 * (1 + 0.5 * f3)**2)"
   ]
  },
  {
   "cell_type": "code",
   "execution_count": 93,
   "id": "16874295-3320-4029-b070-1184d9363a0d",
   "metadata": {},
   "outputs": [
    {
     "name": "stdout",
     "output_type": "stream",
     "text": [
      "PV1 = sw3 / (1 * (1 + 0.5 * f1)) + sw3 / (1 * (1 + 0.5 * f1) * (1 + 0.5 * f1)) + sw3 / (1 * (1 + 0.5 * f1) * (1 + 0.5 * f1) * (1 + 0.5 * f2)) + sw3 / (1 * (1 + 0.5 * f1) * (1 + 0.5 * f1) * (1 + 0.5 * f2) * (1 + 0.5 * f2)) + sw3 / (1 * (1 + 0.5 * f1) * (1 + 0.5 * f1) * (1 + 0.5 * f2) * (1 + 0.5 * f2) * (1 + 0.5 * f3)) + sw3 / (1 * (1 + 0.5 * f1) * (1 + 0.5 * f1) * (1 + 0.5 * f2) * (1 + 0.5 * f2) * (1 + 0.5 * f3) * (1 + 0.5 * f3))\n"
     ]
    }
   ],
   "source": [
    "def generate_swap_payment_pv_expression(years, f_rate_symbols, sw_rate_symbol):\n",
    "    \"\"\"\n",
    "    Generate a dynamic expression for calculating the present value of swap payments (PV1)\n",
    "    based on a given number of years, symbols representing forward rates, and the swap rate symbol.\n",
    "\n",
    "    Parameters:\n",
    "    - years: The number of years for the swap payments.\n",
    "    - f_rate_symbols: The symbols (as strings) representing the forward rates for each year.\n",
    "    - sw_rate_symbol: The symbol representing the swap rate.\n",
    "\n",
    "    Returns:\n",
    "    - A string representing the dynamic expression to calculate PV1.\n",
    "    \"\"\"\n",
    "    # Generate discount factors expressions for the given years\n",
    "    discount_factors_expressions = generate_discount_factors_expressions(years, f_rate_symbols)\n",
    "    \n",
    "    # Initialize the list to hold each term's expression for PV1\n",
    "    pv1_terms_expressions = []\n",
    "\n",
    "    # Iterate through each discount factor expression to create the PV1 terms\n",
    "    for i, df_expression in enumerate(discount_factors_expressions, start=1):\n",
    "        # Create the term expression for PV1 using the swap rate symbol and the discount factor expression\n",
    "        term_expression = f\"{sw_rate_symbol} / {df_expression}\"\n",
    "        pv1_terms_expressions.append(term_expression)\n",
    "\n",
    "    # Join all terms to form the final PV1 expression\n",
    "    pv1_expression = \"PV1 = \" + \" + \".join(pv1_terms_expressions)\n",
    "\n",
    "    return pv1_expression\n",
    "\n",
    "# Example usage\n",
    "years = 3  # Generating PV1 expression for 3 years\n",
    "f_rate_symbols = [\"f1\", \"f2\", \"f3\"]  # Symbols for forward rates for each year\n",
    "sw_rate_symbol = \"sw3\"  # Symbol for the swap rate\n",
    "\n",
    "# Generate the PV1 expression\n",
    "pv1_expression = generate_swap_payment_pv_expression(years, f_rate_symbols, sw_rate_symbol)\n",
    "\n",
    "print(pv1_expression)"
   ]
  },
  {
   "cell_type": "markdown",
   "id": "617eb40d-73bd-45ad-9cea-caed843b18a1",
   "metadata": {},
   "source": [
    "PV1 = sw3 / (1 + 0.5 * f1) + sw3 / (1 + 0.5 * f1)**2 + sw3 / ((1 + 0.5 * f1)**2 * (1 + 0.5 * f2)) + sw3 / ((1 + 0.5 * f1)**2 * (1 + 0.5 * f2)**2) + sw3 / ((1 + 0.5 * f1)**2 * (1 + 0.5 * f2)**2 * (1 + 0.5 * f3)) + sw3 / ((1 + 0.5 * f1)**2 * (1 + 0.5 * f2)**2 * (1 + 0.5 * f3)**2)"
   ]
  },
  {
   "cell_type": "code",
   "execution_count": 94,
   "id": "93944e8b-5c14-4ab4-bad4-584335c3d4c9",
   "metadata": {},
   "outputs": [
    {
     "name": "stdout",
     "output_type": "stream",
     "text": [
      "The solved forward rate for the last year: 0.03264092569106534\n"
     ]
    }
   ],
   "source": [
    "import sympy as sp\n",
    "from scipy.optimize import fsolve\n",
    "\n",
    "def swap_to_forward_rate(years, f_rate_values, sw_rate_value):\n",
    "    \"\"\"\n",
    "    Solve for the last year's forward rate given swap rate, forward rates for previous years, and total years.\n",
    "\n",
    "    Parameters:\n",
    "    - years: Total number of years for the swap.\n",
    "    - f_rate_values: List of forward rates for the years leading up to the last year. Last year's rate is assumed unknown.\n",
    "    - sw_rate_value: Swap rate value.\n",
    "\n",
    "    Returns:\n",
    "    - The solved forward rate for the last year.\n",
    "    \"\"\"\n",
    "    # Define symbols for all forward rates up to the given years\n",
    "    f_rate_symbols = [sp.symbols(f'f{i+1}') for i in range(years)]\n",
    "    \n",
    "    # Substitute known forward rate values into the symbols list\n",
    "    for i, rate in enumerate(f_rate_values):\n",
    "        f_rate_symbols[i] = rate\n",
    "    \n",
    "    # Generate the last year's forward rate symbol\n",
    "    last_year_f_rate_symbol = f_rate_symbols[-1]\n",
    "\n",
    "    # Generate PV1 and PV2 expressions\n",
    "    pv1_expression = generate_swap_payment_pv_expression(years, f_rate_symbols[:-1], \"sw\")\n",
    "    pv2_expression = generate_dynamic_pv2_expression(years, f_rate_symbols)\n",
    "    \n",
    "    # Substitute known values into PV1 and PV2 expressions\n",
    "    PV1 = sp.sympify(pv1_expression.replace(\"PV1 = \", \"\").replace(\"sw\", str(sw_rate_value)))\n",
    "    PV2 = sp.sympify(pv2_expression.replace(\"PV2 = \", \"\"))\n",
    "    \n",
    "    # Define the difference function\n",
    "    diff_expression = PV1 - PV2\n",
    "    \n",
    "    # Convert sympy expression to a function usable by fsolve\n",
    "    diff_func = sp.lambdify(last_year_f_rate_symbol, diff_expression, 'numpy')\n",
    "    \n",
    "    # Solve for the unknown forward rate\n",
    "    f_rate_solution, = fsolve(diff_func, x0=0.03)  # Assuming initial guess as 3%\n",
    "    \n",
    "    return f_rate_solution\n",
    "\n",
    "# Example usage\n",
    "years = 3  # Total years for the swap\n",
    "f1 = swap_to_forward_1Y(2.8438 / 100)\n",
    "f2 = swap_to_forward_2Y(3.060 / 100, f1)\n",
    "f_rate_values = [f1, f2]  # Known forward rates for the first two years\n",
    "sw_rate_value = 3.126 / 100  # Swap rate\n",
    "\n",
    "# Solve for the last year's forward rate\n",
    "f3_solution = swap_to_forward_rate(years, f_rate_values, sw_rate_value)\n",
    "\n",
    "print(f\"The solved forward rate for the last year: {f3_solution}\")\n"
   ]
  },
  {
   "cell_type": "markdown",
   "id": "1576eef6-5f43-4b0d-b7b5-99d4892916e0",
   "metadata": {},
   "source": [
    "0.03264530551203545"
   ]
  },
  {
   "cell_type": "markdown",
   "id": "07709bf8-bb66-4ebe-b72b-96e30df85fb0",
   "metadata": {},
   "source": [
    "[0.028437999999999998,\n",
    " 0.03283113038626899,\n",
    " 0.03264530551203545,\n",
    " 0.03201590223021911,\n",
    " 0.031760049949048276,\n",
    " 0.03222150590023792,\n",
    " 0.033225985137036694,\n",
    " 0.03258650990142389]"
   ]
  },
  {
   "cell_type": "code",
   "execution_count": 97,
   "id": "96e6d2e2-6c09-484c-8020-749e8af3a812",
   "metadata": {},
   "outputs": [
    {
     "data": {
      "text/plain": [
       "0.03293280453785824"
      ]
     },
     "execution_count": 97,
     "metadata": {},
     "output_type": "execute_result"
    }
   ],
   "source": [
    "# 定义年限的Swap利率  \n",
    "swap_rates = {\n",
    "    2: 3.060 / 100,  \n",
    "    3: 3.126 / 100,\n",
    "    4: 3.144 / 100,\n",
    "    5: 3.150 / 100,\n",
    "    7: 3.169 / 100,  \n",
    "    10: 3.210 / 100, \n",
    "    30: 3.237 / 100   \n",
    "}\n",
    "\n",
    "f1 = swap_to_forward_1Y(2.8438 / 100)\n",
    "\n",
    "f2 = swap_to_forward_rate(2, [f1], swap_rates[2])\n",
    "f2"
   ]
  },
  {
   "cell_type": "code",
   "execution_count": 69,
   "id": "44975bec-2f3a-4a3f-819c-f7f1761371fc",
   "metadata": {},
   "outputs": [
    {
     "data": {
      "text/plain": [
       "0.03283113038626899"
      ]
     },
     "execution_count": 69,
     "metadata": {},
     "output_type": "execute_result"
    }
   ],
   "source": [
    "f2 = swap_to_forward_2Y(3.060 / 100, f1)\n",
    "f2 "
   ]
  },
  {
   "cell_type": "code",
   "execution_count": 99,
   "id": "d5efdcc0-3079-435a-8356-8acfba6f43a6",
   "metadata": {},
   "outputs": [
    {
     "data": {
      "text/plain": [
       "0.032531192316364956"
      ]
     },
     "execution_count": 99,
     "metadata": {},
     "output_type": "execute_result"
    }
   ],
   "source": [
    "f3 = swap_to_forward_rate(3, [f1, f2], swap_rates[3])\n",
    "f3"
   ]
  },
  {
   "cell_type": "code",
   "execution_count": 100,
   "id": "8da0b794-f224-4d9a-9766-38e92d0c9034",
   "metadata": {},
   "outputs": [
    {
     "data": {
      "text/plain": [
       "0.032013433311630965"
      ]
     },
     "execution_count": 100,
     "metadata": {},
     "output_type": "execute_result"
    }
   ],
   "source": [
    "f4 = swap_to_forward_rate(4, [f1, f2, f3], swap_rates[4])\n",
    "f4 "
   ]
  },
  {
   "cell_type": "code",
   "execution_count": 101,
   "id": "3bc60c7e-6119-48da-a53a-eeb543371cfd",
   "metadata": {},
   "outputs": [
    {
     "data": {
      "text/plain": [
       "0.03176668492238184"
      ]
     },
     "execution_count": 101,
     "metadata": {},
     "output_type": "execute_result"
    }
   ],
   "source": [
    "f5 = swap_to_forward_rate(5, [f1, f2, f3, f4], swap_rates[5])\n",
    "f5 "
   ]
  },
  {
   "cell_type": "code",
   "execution_count": 104,
   "id": "435018e5-0533-4187-8c0e-3cfad9eeccd2",
   "metadata": {},
   "outputs": [
    {
     "data": {
      "text/plain": [
       "0.06769548579199557"
      ]
     },
     "execution_count": 104,
     "metadata": {},
     "output_type": "execute_result"
    }
   ],
   "source": [
    "f6 = 0\n",
    "f7 = swap_to_forward_rate(7, [f1, f2, f3, f4, f5, f6], swap_rates[7]) \n",
    "f7"
   ]
  },
  {
   "cell_type": "code",
   "execution_count": 64,
   "id": "e52adfa6-33f8-4cc2-b6a1-1233c2a4bf52",
   "metadata": {},
   "outputs": [
    {
     "ename": "TypeError",
     "evalue": "Cannot cast array data from dtype('O') to dtype('float64') according to the rule 'safe'",
     "output_type": "error",
     "traceback": [
      "\u001b[0;31m---------------------------------------------------------------------------\u001b[0m",
      "\u001b[0;31mTypeError\u001b[0m                                 Traceback (most recent call last)",
      "\u001b[0;31mTypeError\u001b[0m: Cannot cast array data from dtype('O') to dtype('float64') according to the rule 'safe'"
     ]
    },
    {
     "ename": "error",
     "evalue": "Result from function call is not a proper array of floats.",
     "output_type": "error",
     "traceback": [
      "\u001b[0;31m---------------------------------------------------------------------------\u001b[0m",
      "\u001b[0;31merror\u001b[0m                                     Traceback (most recent call last)",
      "Cell \u001b[0;32mIn[64], line 31\u001b[0m\n\u001b[1;32m     28\u001b[0m f5 \u001b[38;5;241m=\u001b[39m swap_to_forward_rate(\u001b[38;5;241m5\u001b[39m, [f1, f2, f3, f4], swap_rates[\u001b[38;5;241m5\u001b[39m])\n\u001b[1;32m     30\u001b[0m \u001b[38;5;66;03m# 计算f7\u001b[39;00m\n\u001b[0;32m---> 31\u001b[0m f7 \u001b[38;5;241m=\u001b[39m \u001b[43mswap_to_forward_rate\u001b[49m\u001b[43m(\u001b[49m\u001b[38;5;241;43m7\u001b[39;49m\u001b[43m,\u001b[49m\u001b[43m \u001b[49m\u001b[43m[\u001b[49m\u001b[43mf1\u001b[49m\u001b[43m,\u001b[49m\u001b[43m \u001b[49m\u001b[43mf2\u001b[49m\u001b[43m,\u001b[49m\u001b[43m \u001b[49m\u001b[43mf3\u001b[49m\u001b[43m,\u001b[49m\u001b[43m \u001b[49m\u001b[43mf4\u001b[49m\u001b[43m,\u001b[49m\u001b[43m \u001b[49m\u001b[43mf5\u001b[49m\u001b[43m]\u001b[49m\u001b[43m,\u001b[49m\u001b[43m \u001b[49m\u001b[43mswap_rates\u001b[49m\u001b[43m[\u001b[49m\u001b[38;5;241;43m7\u001b[39;49m\u001b[43m]\u001b[49m\u001b[43m)\u001b[49m  \n\u001b[1;32m     33\u001b[0m \u001b[38;5;66;03m# 计算f10\u001b[39;00m\n\u001b[1;32m     34\u001b[0m f10 \u001b[38;5;241m=\u001b[39m swap_to_forward_rate(\u001b[38;5;241m10\u001b[39m, [f1, f2, f3, f4, f5, f7], swap_rates[\u001b[38;5;241m10\u001b[39m])  \n",
      "Cell \u001b[0;32mIn[62], line 38\u001b[0m, in \u001b[0;36mswap_to_forward_rate\u001b[0;34m(years, f_rate_values, sw_rate_value)\u001b[0m\n\u001b[1;32m     35\u001b[0m diff_func \u001b[38;5;241m=\u001b[39m sp\u001b[38;5;241m.\u001b[39mlambdify(last_year_f_rate_symbol, diff_expression, modules\u001b[38;5;241m=\u001b[39m\u001b[38;5;124m'\u001b[39m\u001b[38;5;124mnumpy\u001b[39m\u001b[38;5;124m'\u001b[39m)\n\u001b[1;32m     37\u001b[0m \u001b[38;5;66;03m# Solve for the unknown forward rate\u001b[39;00m\n\u001b[0;32m---> 38\u001b[0m f_rate_solution \u001b[38;5;241m=\u001b[39m \u001b[43mfsolve\u001b[49m\u001b[43m(\u001b[49m\u001b[43mdiff_func\u001b[49m\u001b[43m,\u001b[49m\u001b[43m \u001b[49m\u001b[43mx0\u001b[49m\u001b[38;5;241;43m=\u001b[39;49m\u001b[43mnp\u001b[49m\u001b[38;5;241;43m.\u001b[39;49m\u001b[43marray\u001b[49m\u001b[43m(\u001b[49m\u001b[43m[\u001b[49m\u001b[38;5;241;43m0.03\u001b[39;49m\u001b[43m]\u001b[49m\u001b[43m)\u001b[49m\u001b[43m)\u001b[49m[\u001b[38;5;241m0\u001b[39m]  \u001b[38;5;66;03m# Assuming initial guess as 3%\u001b[39;00m\n\u001b[1;32m     40\u001b[0m \u001b[38;5;28;01mreturn\u001b[39;00m f_rate_solution\n",
      "File \u001b[0;32m~/miniforge3/envs/general/lib/python3.9/site-packages/scipy/optimize/_minpack_py.py:162\u001b[0m, in \u001b[0;36mfsolve\u001b[0;34m(func, x0, args, fprime, full_output, col_deriv, xtol, maxfev, band, epsfcn, factor, diag)\u001b[0m\n\u001b[1;32m     50\u001b[0m \u001b[38;5;250m\u001b[39m\u001b[38;5;124;03m\"\"\"\u001b[39;00m\n\u001b[1;32m     51\u001b[0m \u001b[38;5;124;03mFind the roots of a function.\u001b[39;00m\n\u001b[1;32m     52\u001b[0m \n\u001b[0;32m   (...)\u001b[0m\n\u001b[1;32m    152\u001b[0m \n\u001b[1;32m    153\u001b[0m \u001b[38;5;124;03m\"\"\"\u001b[39;00m\n\u001b[1;32m    154\u001b[0m options \u001b[38;5;241m=\u001b[39m {\u001b[38;5;124m'\u001b[39m\u001b[38;5;124mcol_deriv\u001b[39m\u001b[38;5;124m'\u001b[39m: col_deriv,\n\u001b[1;32m    155\u001b[0m            \u001b[38;5;124m'\u001b[39m\u001b[38;5;124mxtol\u001b[39m\u001b[38;5;124m'\u001b[39m: xtol,\n\u001b[1;32m    156\u001b[0m            \u001b[38;5;124m'\u001b[39m\u001b[38;5;124mmaxfev\u001b[39m\u001b[38;5;124m'\u001b[39m: maxfev,\n\u001b[0;32m   (...)\u001b[0m\n\u001b[1;32m    159\u001b[0m            \u001b[38;5;124m'\u001b[39m\u001b[38;5;124mfactor\u001b[39m\u001b[38;5;124m'\u001b[39m: factor,\n\u001b[1;32m    160\u001b[0m            \u001b[38;5;124m'\u001b[39m\u001b[38;5;124mdiag\u001b[39m\u001b[38;5;124m'\u001b[39m: diag}\n\u001b[0;32m--> 162\u001b[0m res \u001b[38;5;241m=\u001b[39m \u001b[43m_root_hybr\u001b[49m\u001b[43m(\u001b[49m\u001b[43mfunc\u001b[49m\u001b[43m,\u001b[49m\u001b[43m \u001b[49m\u001b[43mx0\u001b[49m\u001b[43m,\u001b[49m\u001b[43m \u001b[49m\u001b[43margs\u001b[49m\u001b[43m,\u001b[49m\u001b[43m \u001b[49m\u001b[43mjac\u001b[49m\u001b[38;5;241;43m=\u001b[39;49m\u001b[43mfprime\u001b[49m\u001b[43m,\u001b[49m\u001b[43m \u001b[49m\u001b[38;5;241;43m*\u001b[39;49m\u001b[38;5;241;43m*\u001b[39;49m\u001b[43moptions\u001b[49m\u001b[43m)\u001b[49m\n\u001b[1;32m    163\u001b[0m \u001b[38;5;28;01mif\u001b[39;00m full_output:\n\u001b[1;32m    164\u001b[0m     x \u001b[38;5;241m=\u001b[39m res[\u001b[38;5;124m'\u001b[39m\u001b[38;5;124mx\u001b[39m\u001b[38;5;124m'\u001b[39m]\n",
      "File \u001b[0;32m~/miniforge3/envs/general/lib/python3.9/site-packages/scipy/optimize/_minpack_py.py:239\u001b[0m, in \u001b[0;36m_root_hybr\u001b[0;34m(func, x0, args, jac, col_deriv, xtol, maxfev, band, eps, factor, diag, **unknown_options)\u001b[0m\n\u001b[1;32m    237\u001b[0m     \u001b[38;5;28;01mif\u001b[39;00m maxfev \u001b[38;5;241m==\u001b[39m \u001b[38;5;241m0\u001b[39m:\n\u001b[1;32m    238\u001b[0m         maxfev \u001b[38;5;241m=\u001b[39m \u001b[38;5;241m200\u001b[39m \u001b[38;5;241m*\u001b[39m (n \u001b[38;5;241m+\u001b[39m \u001b[38;5;241m1\u001b[39m)\n\u001b[0;32m--> 239\u001b[0m     retval \u001b[38;5;241m=\u001b[39m \u001b[43m_minpack\u001b[49m\u001b[38;5;241;43m.\u001b[39;49m\u001b[43m_hybrd\u001b[49m\u001b[43m(\u001b[49m\u001b[43mfunc\u001b[49m\u001b[43m,\u001b[49m\u001b[43m \u001b[49m\u001b[43mx0\u001b[49m\u001b[43m,\u001b[49m\u001b[43m \u001b[49m\u001b[43margs\u001b[49m\u001b[43m,\u001b[49m\u001b[43m \u001b[49m\u001b[38;5;241;43m1\u001b[39;49m\u001b[43m,\u001b[49m\u001b[43m \u001b[49m\u001b[43mxtol\u001b[49m\u001b[43m,\u001b[49m\u001b[43m \u001b[49m\u001b[43mmaxfev\u001b[49m\u001b[43m,\u001b[49m\n\u001b[1;32m    240\u001b[0m \u001b[43m                             \u001b[49m\u001b[43mml\u001b[49m\u001b[43m,\u001b[49m\u001b[43m \u001b[49m\u001b[43mmu\u001b[49m\u001b[43m,\u001b[49m\u001b[43m \u001b[49m\u001b[43mepsfcn\u001b[49m\u001b[43m,\u001b[49m\u001b[43m \u001b[49m\u001b[43mfactor\u001b[49m\u001b[43m,\u001b[49m\u001b[43m \u001b[49m\u001b[43mdiag\u001b[49m\u001b[43m)\u001b[49m\n\u001b[1;32m    241\u001b[0m \u001b[38;5;28;01melse\u001b[39;00m:\n\u001b[1;32m    242\u001b[0m     _check_func(\u001b[38;5;124m'\u001b[39m\u001b[38;5;124mfsolve\u001b[39m\u001b[38;5;124m'\u001b[39m, \u001b[38;5;124m'\u001b[39m\u001b[38;5;124mfprime\u001b[39m\u001b[38;5;124m'\u001b[39m, Dfun, x0, args, n, (n, n))\n",
      "\u001b[0;31merror\u001b[0m: Result from function call is not a proper array of floats."
     ]
    }
   ],
   "source": [
    "\n",
    "# 初始远期利率f1    \n",
    "f1 = 2.8438 / 100  \n",
    "\n",
    "# 计算f2\n",
    "f2 = swap_to_forward_rate(2, [f1], swap_rates[2])\n",
    "\n",
    "# 计算f3  \n",
    "f3 = swap_to_forward_rate(3, [f1, f2], swap_rates[3])\n",
    "\n",
    "# 计算f4\n",
    "f4 = swap_to_forward_rate(4, [f1, f2, f3], swap_rates[4])\n",
    "\n",
    "# 计算f5  \n",
    "f5 = swap_to_forward_rate(5, [f1, f2, f3, f4], swap_rates[5])\n",
    "\n",
    "# 计算f7\n",
    "f7 = swap_to_forward_rate(7, [f1, f2, f3, f4, f5], swap_rates[7])  \n",
    "\n",
    "# 计算f10\n",
    "f10 = swap_to_forward_rate(10, [f1, f2, f3, f4, f5, f7], swap_rates[10])  \n",
    "\n",
    "# 计算f30\n",
    "f30 = swap_to_forward_rate(30, [f1, f2, f3, f4, f5, f7, f10], swap_rates[30])\n",
    "\n",
    "print(f1, f2, f3, f4, f5, f7, f10, f30)"
   ]
  },
  {
   "cell_type": "code",
   "execution_count": null,
   "id": "0ba07125-9f25-4182-ab2a-da860b84023f",
   "metadata": {},
   "outputs": [],
   "source": []
  }
 ],
 "metadata": {
  "kernelspec": {
   "display_name": "Python 3 (ipykernel)",
   "language": "python",
   "name": "python3"
  },
  "language_info": {
   "codemirror_mode": {
    "name": "ipython",
    "version": 3
   },
   "file_extension": ".py",
   "mimetype": "text/x-python",
   "name": "python",
   "nbconvert_exporter": "python",
   "pygments_lexer": "ipython3",
   "version": "3.9.16"
  }
 },
 "nbformat": 4,
 "nbformat_minor": 5
}
