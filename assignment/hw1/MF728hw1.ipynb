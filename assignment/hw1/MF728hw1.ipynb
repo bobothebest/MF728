{
 "cells": [
  {
   "cell_type": "markdown",
   "id": "cfaad56b-945e-40f8-9e80-6390720b2141",
   "metadata": {},
   "source": [
    "## MF 728: Fixed Income"
   ]
  },
  {
   "cell_type": "markdown",
   "id": "acbcabe0-5074-42a7-a531-631d67c14a22",
   "metadata": {},
   "source": [
    "### Problem set # 1"
   ]
  },
  {
   "cell_type": "markdown",
   "id": "d61f4add-3bf2-4376-bba1-82b45d7e29d5",
   "metadata": {},
   "source": [
    "#### 1. Yield Curve Construction:\n",
    "Consider the following table of USD swap rates:\n",
    "\n",
    "| Term | Rate (%) |\n",
    "|------|----------|\n",
    "| 1Y   | 2.8438   |\n",
    "| 2Y   | 3.060    |\n",
    "| 3Y   | 3.126    |\n",
    "| 4Y   | 3.144    |\n",
    "| 5Y   | 3.150    |\n",
    "| 7Y   | 3.169    |\n",
    "| 10Y  | 3.210    |\n",
    "| 30Y  | 3.237    |\n",
    "\n",
    "Note: You may assume that these swaps pay coupons semi-annually (every 6 months). For simplicity, you may use a year fraction of 0.5 in all swap coupon payments.\n"
   ]
  },
  {
   "cell_type": "markdown",
   "id": "d133c2df-6837-4686-bb9b-46d3511f415a",
   "metadata": {},
   "source": [
    "##### (a) Extract the constant forward rate for the first year that enables you to match the 1Y market swap rate."
   ]
  },
  {
   "cell_type": "code",
   "execution_count": 1,
   "id": "990c83fd-7bbc-467c-8bc9-4fb13113f9a9",
   "metadata": {},
   "outputs": [],
   "source": [
    "import numpy as np\n",
    "from scipy.optimize import fsolve\n",
    "\n",
    "# Convert the original inner function into a standalone function\n",
    "def swap_present_value(f1, sw1):\n",
    "    # Calculate the present value (PV)\n",
    "    PV = 0.5 * sw1 / (1 + 0.5 * f1) + 0.5 * sw1 / (1 + 0.5 * f1)**2\n",
    "    # Return the difference between PV and the calculated forward rates\n",
    "    return PV - 0.5 * f1 / (1 + 0.5 * f1) - 0.5 * f1 / (1 + 0.5 * f1)**2\n",
    "\n",
    "# Modified swap_to_forward_1Y function, uses the args parameter to pass the additional sw1 parameter\n",
    "def swap_to_forward_1Y(sw1):\n",
    "    # fsolve now calls the swap_present_value function, passing sw1 as a parameter\n",
    "    forward_rate = fsolve(swap_present_value, x0=sw1, args=(sw1,))\n",
    "    return forward_rate[0]\n"
   ]
  },
  {
   "cell_type": "code",
   "execution_count": 2,
   "id": "f427ccba-980f-4458-95e6-af48b2a37847",
   "metadata": {},
   "outputs": [
    {
     "name": "stdout",
     "output_type": "stream",
     "text": [
      "0.028437999999999998\n"
     ]
    }
   ],
   "source": [
    "f1 = swap_to_forward_1Y(2.8438 / 100)\n",
    "print(f1)"
   ]
  },
  {
   "cell_type": "markdown",
   "id": "da5bbddc-959c-4fd4-9a47-5d1f1cf45ffb",
   "metadata": {},
   "source": [
    "##### (b) Holding this first year forward rate fixed, find the forward rate from one year to two years that enables you to match the two year swap (while also matching the one year)."
   ]
  },
  {
   "cell_type": "code",
   "execution_count": 3,
   "id": "23fd5464-a2c6-4b8c-9c64-b8fa7c89b21e",
   "metadata": {},
   "outputs": [
    {
     "data": {
      "text/plain": [
       "(0.03283113038626899, 0.9410092691367571)"
      ]
     },
     "execution_count": 3,
     "metadata": {},
     "output_type": "execute_result"
    }
   ],
   "source": [
    "# Standalone function to calculate the present value difference for a two-year swap\n",
    "def swap_present_value(f2, sw2, f1):\n",
    "    # Calculate the present value of swap payments\n",
    "    PV1 = sw2 / (1 + 0.5 * f1) + sw2 / (1 + 0.5 * f1)**2 + sw2 / ((1 + 0.5 * f1)**2 * (1 + 0.5 * f2)) + sw2 / ((1 + 0.5 * f1)**2 * (1 + 0.5 * f2)**2)\n",
    "    # Calculate the present value of forward rate payments\n",
    "    PV2 = f1 / (1 + 0.5 * f1) + f1 / (1 + 0.5 * f1)**2 + f2 / ((1 + 0.5 * f1)**2 * (1 + 0.5 * f2)) + f2 / ((1 + 0.5 * f1)**2 * (1 + 0.5 * f2)**2)\n",
    "    # Return the difference in present values\n",
    "    return PV1 - PV2\n",
    "\n",
    "# Function to solve for the second year's forward rate\n",
    "def swap_to_forward_2Y(sw2, f1):\n",
    "    # Use fsolve to solve for the second year's forward rate\n",
    "    forward_rate_2Y = fsolve(swap_present_value, x0=sw2, args=(sw2, f1))\n",
    "    return forward_rate_2Y[0]\n",
    "\n",
    "# Use the forward rate f1 calculated in the previous step\n",
    "f1 = 2.8438 / 100  # The forward rate for the first year given in the example\n",
    "# Calculate the forward rate for the second year\n",
    "f2 = swap_to_forward_2Y(3.060 / 100, f1)\n",
    "# Calculate the discount factor for the second year\n",
    "D1 = 1 / ((1 + 0.5 * f1)**2)  # Calculating D1 from the previous step\n",
    "D2 = D1 / ((1 + 0.5 * f2)**2)\n",
    "\n",
    "f2, D2\n"
   ]
  },
  {
   "cell_type": "markdown",
   "id": "e9a983f9-ee39-4cd9-b0a1-f1502bc24da2",
   "metadata": {},
   "source": [
    "##### (c) Continue this process and extract piecewise constant forward rates for the entire curve. Comment on the forward rates vs. the swap rates."
   ]
  },
  {
   "cell_type": "code",
   "execution_count": 4,
   "id": "35e5214f-8f38-4687-9926-7f2ff7d97090",
   "metadata": {},
   "outputs": [
    {
     "data": {
      "text/plain": [
       "(0.03264530551203542, 0.9110258289278597)"
      ]
     },
     "execution_count": 4,
     "metadata": {},
     "output_type": "execute_result"
    }
   ],
   "source": [
    "# Standalone function to calculate the present value difference for a three-year swap\n",
    "def swap_present_value_3Y(f3, sw3, f1, f2):\n",
    "    # Calculate the present value of swap payments\n",
    "    PV1 = sw3 / (1 + 0.5 * f1) + sw3 / (1 + 0.5 * f1)**2 + sw3 / ((1 + 0.5 * f1)**2 * (1 + 0.5 * f2)) + sw3 / ((1 + 0.5 * f1)**2 * (1 + 0.5 * f2)**2) + sw3 / ((1 + 0.5 * f1)**2 * (1 + 0.5 * f2)**2 * (1 + 0.5 * f3)) + sw3 / ((1 + 0.5 * f1)**2 * (1 + 0.5 * f2)**2 * (1 + 0.5 * f3)**2)\n",
    "    # Calculate the present value of forward rate payments\n",
    "    PV2 = f1 / (1 + 0.5 * f1) + f1 / (1 + 0.5 * f1)**2 + f2 / ((1 + 0.5 * f1)**2 * (1 + 0.5 * f2)) + f2 / ((1 + 0.5 * f1)**2 * (1 + 0.5 * f2)**2) + f3 / ((1 + 0.5 * f1)**2 * (1 + 0.5 * f2)**2 * (1 + 0.5 * f3)) + f3 / ((1 + 0.5 * f1)**2 * (1 + 0.5 * f2)**2 * (1 + 0.5 * f3)**2)\n",
    "    # Return the difference in present values\n",
    "    return PV1 - PV2\n",
    "\n",
    "# Function to solve for the third year's forward rate\n",
    "def swap_to_forward_3Y(sw3, f1, f2):\n",
    "    # Use fsolve to solve for the third year's forward rate\n",
    "    forward_rate_3Y = fsolve(swap_present_value_3Y, x0=sw3, args=(sw3, f1, f2))\n",
    "    return forward_rate_3Y[0]\n",
    "\n",
    "# Use the forward rates f1 and f2 calculated in the previous years\n",
    "sw3 = 3.126 / 100 \n",
    "\n",
    "# Calculate the forward rate for the third year\n",
    "f3 = swap_to_forward_3Y(sw3, f1, f2)\n",
    "\n",
    "# Calculate the discount factor for the third year\n",
    "D3 = D2 / ((1 + 0.5 * f3)**2)\n",
    "\n",
    "f3, D3\n"
   ]
  },
  {
   "cell_type": "code",
   "execution_count": 5,
   "id": "a17fb4e2-7d37-42b5-b5e3-5ede5781b68a",
   "metadata": {},
   "outputs": [
    {
     "data": {
      "text/plain": [
       "(0.03201590223021914, 0.8825442234289774)"
      ]
     },
     "execution_count": 5,
     "metadata": {},
     "output_type": "execute_result"
    }
   ],
   "source": [
    "# Standalone swap_present_value function\n",
    "def swap_present_value_4Y(f4, sw4, f1, f2, f3):\n",
    "    # Calculate the present value of swap payments\n",
    "    PV = sw4/(1+0.5*f1) + sw4/(1+0.5*f1)**2 + sw4/((1+0.5*f1)**2*(1+0.5*f2)) + sw4/((1+0.5*f1)**2*(1+0.5*f2)**2) + sw4/((1+0.5*f1)**2*(1+0.5*f2)**2*(1+0.5*f3)) + sw4/((1+0.5*f1)**2*(1+0.5*f2)**2*(1+0.5*f3)**2) + sw4/((1+0.5*f1)**2*(1+0.5*f2)**2*(1+0.5*f3)**2*(1+0.5*f4)) + sw4/((1+0.5*f1)**2*(1+0.5*f2)**2*(1+0.5*f3)**2*(1+0.5*f4)**2)\n",
    "    # Calculate the present value of forward rate payments\n",
    "    PV2 = f1/(1+0.5*f1) + f1/(1+0.5*f1)**2 + f2/((1+0.5*f1)**2*(1+0.5*f2)) + f2/((1+0.5*f1)**2*(1+0.5*f2)**2) + f3/((1+0.5*f1)**2*(1+0.5*f2)**2*(1+0.5*f3)) + f3/((1+0.5*f1)**2*(1+0.5*f2)**2*(1+0.5*f3)**2) + f4/((1+0.5*f1)**2*(1+0.5*f2)**2*(1+0.5*f3)**2*(1+0.5*f4)) + f4/((1+0.5*f1)**2*(1+0.5*f2)**2*(1+0.5*f3)**2*(1+0.5*f4)**2)\n",
    "    # Return the difference in present values\n",
    "    return PV - PV2\n",
    "\n",
    "# Updated swap_to_forward_4Y function\n",
    "def swap_to_forward_4Y(sw4, f1, f2, f3):\n",
    "    # Use a lambda function to pass additional arguments to swap_present_value\n",
    "    forward_rate_4Y = fsolve(lambda f4: swap_present_value_4Y(f4, sw4, f1, f2, f3), sw4)\n",
    "    return forward_rate_4Y[0]\n",
    "\n",
    "sw4 = 3.144 / 100 \n",
    "f4 = swap_to_forward_4Y(sw4, f1, f2, f3)\n",
    "\n",
    "# Calculate the discount factor for the fourth year\n",
    "D4 = D3 / ((1 + 0.5 * f4)**2)\n",
    "\n",
    "f4,D4\n"
   ]
  },
  {
   "cell_type": "code",
   "execution_count": 7,
   "id": "9a27f0cd-529b-48a2-af04-f951041ed7d4",
   "metadata": {},
   "outputs": [
    {
     "data": {
      "text/plain": [
       "(0.031760049949048276, 0.8551683806917486)"
      ]
     },
     "execution_count": 7,
     "metadata": {},
     "output_type": "execute_result"
    }
   ],
   "source": [
    "# Standalone swap_present_value function\n",
    "def swap_present_value_5Y(f5, sw5, f1, f2, f3, f4):\n",
    "    PV = sw5*sum((1+0.5*f1)**-i for i in range(1, 3)) + sw5/((1+0.5*f1)**2*(1+0.5*f2)) + sw5/((1+0.5*f1)**2*(1+0.5*f2)**2) + sw5/((1+0.5*f1)**2*(1+0.5*f2)**2*(1+0.5*f3)) + sw5/((1+0.5*f1)**2*(1+0.5*f2)**2*(1+0.5*f3)**2) + sw5/((1+0.5*f1)**2*(1+0.5*f2)**2*(1+0.5*f3)**2*(1+0.5*f4)) + sw5/((1+0.5*f1)**2*(1+0.5*f2)**2*(1+0.5*f3)**2*(1+0.5*f4)**2) + sw5/((1+0.5*f1)**2*(1+0.5*f2)**2*(1+0.5*f3)**2*(1+0.5*f4)**2*(1+0.5*f5)) + sw5/((1+0.5*f1)**2*(1+0.5*f2)**2*(1+0.5*f3)**2*(1+0.5*f4)**2*(1+0.5*f5)**2)\n",
    "    PV2 = f1/(1+0.5*f1) + f1/(1+0.5*f1)**2 + f2/((1+0.5*f1)**2*(1+0.5*f2)) + f2/((1+0.5*f1)**2*(1+0.5*f2)**2) + f3/((1+0.5*f1)**2*(1+0.5*f2)**2*(1+0.5*f3)) + f3/((1+0.5*f1)**2*(1+0.5*f2)**2*(1+0.5*f3)**2) + f4/((1+0.5*f1)**2*(1+0.5*f2)**2*(1+0.5*f3)**2*(1+0.5*f4)) + f4/((1+0.5*f1)**2*(1+0.5*f2)**2*(1+0.5*f3)**2*(1+0.5*f4)**2) + f5/((1+0.5*f1)**2*(1+0.5*f2)**2*(1+0.5*f3)**2*(1+0.5*f4)**2*(1+0.5*f5)) + f5/((1+0.5*f1)**2*(1+0.5*f2)**2*(1+0.5*f3)**2*(1+0.5*f4)**2*(1+0.5*f5)**2)\n",
    "    return PV - PV2\n",
    "\n",
    "# Standalone swap_present_value function\n",
    "def swap_to_forward_5Y(sw5, f1, f2, f3, f4):\n",
    "    # Use a lambda function to pass additional arguments to swap_present_value\n",
    "    forward_rate_5Y = fsolve(lambda f5: swap_present_value_5Y(f5, sw5, f1, f2, f3, f4), sw5)\n",
    "    return forward_rate_5Y[0]\n",
    "\n",
    "f5 = swap_to_forward_5Y(0.0315, f1, f2, f3, f4)\n",
    "\n",
    "# Calculate the discount factor for the fifth year\n",
    "D5 = D4 / (1 + 0.5 * f5)**2\n",
    "\n",
    "f5,D5"
   ]
  },
  {
   "cell_type": "code",
   "execution_count": 9,
   "id": "6ddaab58-ff74-47fc-9e17-014a55b84eb1",
   "metadata": {},
   "outputs": [
    {
     "data": {
      "text/plain": [
       "(0.03222150590023792, 0.802208843979025)"
      ]
     },
     "execution_count": 9,
     "metadata": {},
     "output_type": "execute_result"
    }
   ],
   "source": [
    "# Standalone swap_present_value function\n",
    "def swap_present_value_7Y(f7, sw7, f1, f2, f3, f4, f5, D1, D2, D3, D4, D5):\n",
    "    PV = (sw7 * sum((1 + 0.5 * f1) ** -i for i in range(1, 3)) +\n",
    "          sw7 * D1 * sum((1 + 0.5 * f2) ** -i for i in range(1, 3)) +\n",
    "          sw7 * D2 * sum((1 + 0.5 * f3) ** -i for i in range(1, 3)) +\n",
    "          sw7 * D3 * sum((1 + 0.5 * f4) ** -i for i in range(1, 3)) +\n",
    "          sw7 * D4 * sum((1 + 0.5 * f5) ** -i for i in range(1, 3)) +\n",
    "          sw7 * D5 * sum((1 + 0.5 * f7) ** -i for i in range(1, 5)))\n",
    "    PV2 = (f1 * sum((1 + 0.5 * f1) ** -i for i in range(1, 3)) +\n",
    "           f2 * D1 * sum((1 + 0.5 * f2) ** -i for i in range(1, 3)) +\n",
    "           f3 * D2 * sum((1 + 0.5 * f3) ** -i for i in range(1, 3)) +\n",
    "           f4 * D3 * sum((1 + 0.5 * f4) ** -i for i in range(1, 3)) +\n",
    "           f5 * D4 * sum((1 + 0.5 * f5) ** -i for i in range(1, 3)) +\n",
    "           f7 * D5 * sum((1 + 0.5 * f7) ** -i for i in range(1, 5)))\n",
    "    return PV - PV2\n",
    "\n",
    "# Updated swap_to_forward_7Y function\n",
    "def swap_to_forward_7Y(sw7, f1, f2, f3, f4, f5, D1, D2, D3, D4, D5):\n",
    "    # Use a lambda function to pass additional arguments to swap_present_value\n",
    "    forward_rate_7Y = fsolve(lambda f7: swap_present_value_7Y(f7, sw7, f1, f2, f3, f4, f5, D1, D2, D3, D4, D5), sw7)\n",
    "    return forward_rate_7Y[0]\n",
    "\n",
    "f7 = swap_to_forward_7Y(0.03169, f1, f2, f3, f4, f5, D1, D2, D3, D4, D5)\n",
    "\n",
    "# Calculate D7\n",
    "D7 = D5 / (1 + f7 * 0.5) ** 4\n",
    "\n",
    "f7,D7"
   ]
  },
  {
   "cell_type": "code",
   "execution_count": 10,
   "id": "e9e5adc2-47ac-4b77-9430-efe97b1a4679",
   "metadata": {},
   "outputs": [
    {
     "data": {
      "text/plain": [
       "(0.033225985137036694, 0.7266972400950599)"
      ]
     },
     "execution_count": 10,
     "metadata": {},
     "output_type": "execute_result"
    }
   ],
   "source": [
    "def swap_present_value_10Y(f10, sw10, f1, f2, f3, f4, f5, f7, D1, D2, D3, D4, D5, D7):\n",
    "    PV = (sw10 * sum((1 + 0.5 * f1) ** -i for i in range(1, 3)) +\n",
    "          sw10 * D1 * sum((1 + 0.5 * f2) ** -i for i in range(1, 3)) +\n",
    "          sw10 * D2 * sum((1 + 0.5 * f3) ** -i for i in range(1, 3)) +\n",
    "          sw10 * D3 * sum((1 + 0.5 * f4) ** -i for i in range(1, 3)) +\n",
    "          sw10 * D4 * sum((1 + 0.5 * f5) ** -i for i in range(1, 3)) +\n",
    "          sw10 * D5 * sum((1 + 0.5 * f7) ** -i for i in range(1, 5)) +\n",
    "          sw10 * D7 * sum((1 + 0.5 * f10) ** -i for i in range(1, 7)))\n",
    "    PV2 = (f1 * sum((1 + 0.5 * f1) ** -i for i in range(1, 3)) +\n",
    "           f2 * D1 * sum((1 + 0.5 * f2) ** -i for i in range(1, 3)) +\n",
    "           f3 * D2 * sum((1 + 0.5 * f3) ** -i for i in range(1, 3)) +\n",
    "           f4 * D3 * sum((1 + 0.5 * f4) ** -i for i in range(1, 3)) +\n",
    "           f5 * D4 * sum((1 + 0.5 * f5) ** -i for i in range(1, 3)) +\n",
    "           f7 * D5 * sum((1 + 0.5 * f7) ** -i for i in range(1, 5)) +\n",
    "           f10 * D7 * sum((1 + 0.5 * f10) ** -i for i in range(1, 7)))\n",
    "    return PV - PV2\n",
    "\n",
    "def swap_to_forward_10Y(sw10, f1, f2, f3, f4, f5, f7, D1, D2, D3, D4, D5, D7):\n",
    "    forward_rate_10Y = fsolve(lambda f10: swap_present_value_10Y(f10, sw10, f1, f2, f3, f4, f5, f7, D1, D2, D3, D4, D5, D7), sw10)\n",
    "    return forward_rate_10Y[0]\n",
    "\n",
    "f10 = swap_to_forward_10Y(0.0321, f1, f2, f3, f4, f5, f7, D1, D2, D3, D4, D5, D7)\n",
    "\n",
    "D10 = D7 / (1 + f10 * 0.5) ** 6\n",
    "f10,D10"
   ]
  },
  {
   "cell_type": "code",
   "execution_count": 11,
   "id": "063413c0-7673-4728-95bf-554f031ed334",
   "metadata": {},
   "outputs": [
    {
     "data": {
      "text/plain": [
       "(0.03258650990142389, 0.5259841369171494)"
      ]
     },
     "execution_count": 11,
     "metadata": {},
     "output_type": "execute_result"
    }
   ],
   "source": [
    "# Standalone swap_present_value function\n",
    "def swap_present_value_30Y(f30, sw30, f1, f2, f3, f4, f5, f7, f10, D1, D2, D3, D4, D5, D7, D10):\n",
    "    PV = (sw30 * sum((1 + 0.5 * f1) ** -i for i in range(1, 3)) +\n",
    "          sw30 * D1 * sum((1 + 0.5 * f2) ** -i for i in range(1, 3)) +\n",
    "          sw30 * D2 * sum((1 + 0.5 * f3) ** -i for i in range(1, 3)) +\n",
    "          sw30 * D3 * sum((1 + 0.5 * f4) ** -i for i in range(1, 3)) +\n",
    "          sw30 * D4 * sum((1 + 0.5 * f5) ** -i for i in range(1, 3)) +\n",
    "          sw30 * D5 * sum((1 + 0.5 * f7) ** -i for i in range(1, 5)) +\n",
    "          sw30 * D7 * sum((1 + 0.5 * f10) ** -i for i in range(1, 7)) +\n",
    "          sw30 * D10 * sum((1 + 0.5 * f30) ** -i for i in range(1, 41)))\n",
    "    PV2 = (f1 * sum((1 + 0.5 * f1) ** -i for i in range(1, 3)) +\n",
    "           f2 * D1 * sum((1 + 0.5 * f2) ** -i for i in range(1, 3)) +\n",
    "           f3 * D2 * sum((1 + 0.5 * f3) ** -i for i in range(1, 3)) +\n",
    "           f4 * D3 * sum((1 + 0.5 * f4) ** -i for i in range(1, 3)) +\n",
    "           f5 * D4 * sum((1 + 0.5 * f5) ** -i for i in range(1, 3)) +\n",
    "           f7 * D5 * sum((1 + 0.5 * f7) ** -i for i in range(1, 5)) +\n",
    "           f10 * D7 * sum((1 + 0.5 * f10) ** -i for i in range(1, 7)) +\n",
    "           f30 * D10 * sum((1 + 0.5 * f30) ** -i for i in range(1, 41)))\n",
    "    return PV - PV2\n",
    "\n",
    "# Refactored swap_to_forward_30Y function\n",
    "def swap_to_forward_30Y(sw30, f1, f2, f3, f4, f5, f7, f10, D1, D2, D3, D4, D5, D7, D10):\n",
    "    forward_rate_30Y = fsolve(lambda f30: swap_present_value_30Y(f30, sw30, f1, f2, f3, f4, f5, f7, f10, D1, D2, D3, D4, D5, D7, D10), sw30)\n",
    "    return forward_rate_30Y[0]\n",
    "\n",
    "# Using the refactored function to calculate f30\n",
    "f30 = swap_to_forward_30Y(0.03237, f1, f2, f3, f4, f5, f7, f10, D1, D2, D3, D4, D5, D7, D10)\n",
    "\n",
    "# Calculating D30\n",
    "D30 = D10 / (1 + f30 * 0.5) ** 20\n",
    "f30,D30"
   ]
  },
  {
   "cell_type": "code",
   "execution_count": 12,
   "id": "4e1266e2-0305-4722-bcb6-2c435d93716d",
   "metadata": {},
   "outputs": [
    {
     "data": {
      "text/plain": [
       "[0.028437999999999998,\n",
       " 0.03283113038626899,\n",
       " 0.03264530551203542,\n",
       " 0.03201590223021914,\n",
       " 0.031760049949048276,\n",
       " 0.03222150590023792,\n",
       " 0.033225985137036694,\n",
       " 0.03258650990142389]"
      ]
     },
     "execution_count": 12,
     "metadata": {},
     "output_type": "execute_result"
    }
   ],
   "source": [
    "f_list=[f1,f2,f3,f4,f5,f7,f10,f30]\n",
    "f_list"
   ]
  },
  {
   "cell_type": "markdown",
   "id": "d02832ab-8729-43c6-a6dd-62b4223dbd7e",
   "metadata": {},
   "source": [
    "##### (d) Compute the fair market, breakeven swap rate of a 15Y swap. That is, find the swap rate that equates the present values of the fixed and floating legs."
   ]
  },
  {
   "cell_type": "code",
   "execution_count": 13,
   "id": "39f6e426-854d-458b-a957-b11b05367b16",
   "metadata": {},
   "outputs": [
    {
     "data": {
      "text/plain": [
       "0.03223672517257003"
      ]
     },
     "execution_count": 13,
     "metadata": {},
     "output_type": "execute_result"
    }
   ],
   "source": [
    "def sw15(f1, f2, f3, f4, f5, f7, f10, f30, D1, D2, D3, D4, D5, D7, D10):\n",
    "    # Calculate the numerator of PV\n",
    "    numerator = (\n",
    "        f1 * sum((1 + 0.5 * f1) ** -i for i in range(1, 3)) +\n",
    "        f2 * D1 * sum((1 + 0.5 * f2) ** -i for i in range(1, 3)) +\n",
    "        f3 * D2 * sum((1 + 0.5 * f3) ** -i for i in range(1, 3)) +\n",
    "        f4 * D3 * sum((1 + 0.5 * f4) ** -i for i in range(1, 3)) +\n",
    "        f5 * D4 * sum((1 + 0.5 * f5) ** -i for i in range(1, 3)) +\n",
    "        f7 * D5 * sum((1 + 0.5 * f7) ** -i for i in range(1, 5)) +\n",
    "        f10 * D7 * sum((1 + 0.5 * f10) ** -i for i in range(1, 7)) +\n",
    "        f30 * D10 * sum((1 + 0.5 * f30) ** -i for i in range(1, 11))\n",
    "    )\n",
    "\n",
    "    # Calculate the denominator of PV\n",
    "    denominator = (\n",
    "        sum((1 + 0.5 * f1) ** -i for i in range(1, 3)) +\n",
    "        D1 * sum((1 + 0.5 * f2) ** -i for i in range(1, 3)) +\n",
    "        D2 * sum((1 + 0.5 * f3) ** -i for i in range(1, 3)) +\n",
    "        D3 * sum((1 + 0.5 * f4) ** -i for i in range(1, 3)) +\n",
    "        D4 * sum((1 + 0.5 * f5) ** -i for i in range(1, 3)) +\n",
    "        D5 * sum((1 + 0.5 * f7) ** -i for i in range(1, 5)) +\n",
    "        D7 * sum((1 + 0.5 * f10) ** -i for i in range(1, 7)) +\n",
    "        D10 * sum((1 + 0.5 * f30) ** -i for i in range(1, 11))\n",
    "    )\n",
    "\n",
    "    # Calculate PV by dividing the numerator by the denominator\n",
    "    PV = numerator / denominator\n",
    "\n",
    "    return PV\n",
    "sw15(f1, f2, f3, f4, f5, f7, f10, f30, D1, D2, D3, D4, D5, D7, D10)"
   ]
  },
  {
   "cell_type": "markdown",
   "id": "641648bd-6dbf-46bc-993f-5c9719d9ee56",
   "metadata": {},
   "source": [
    "##### (e) Compute discount factors. Compute zero rates by finding the constant rate that leads to the calibrated discount factors. Comment on the differences in the zero rates and swap rates."
   ]
  },
  {
   "cell_type": "code",
   "execution_count": 14,
   "id": "db89d88a-3cdb-41fd-862b-6813a0bce781",
   "metadata": {},
   "outputs": [
    {
     "data": {
      "text/plain": [
       "[0.028237716361644027,\n",
       " 0.030401144570267404,\n",
       " 0.031061343281080404,\n",
       " 0.03123659497399354,\n",
       " 0.03129137859064855,\n",
       " 0.0314837572929969,\n",
       " 0.031924533922686626,\n",
       " 0.021416140821712493]"
      ]
     },
     "execution_count": 14,
     "metadata": {},
     "output_type": "execute_result"
    }
   ],
   "source": [
    "D_list=[D1,D2,D3,D4,D5,D7,D10,D30]\n",
    "zero_list = [np.log(D)/-T for D,T in zip(D_list,[1,2,3,4,5,7,10,30])]\n",
    "zero_list"
   ]
  },
  {
   "cell_type": "markdown",
   "id": "511a085b-00ed-4cbb-b4d4-890f5589161d",
   "metadata": {},
   "source": [
    "Differences between Zero Rates and Swap Rates:\n",
    "\n",
    "- Level of Rates: The zero rates and swap rates follow a similar trend up to the 10Y maturity, where zero rates increase with maturity, reflecting a normal upward-sloping yield curve. However, for the 30Y maturity, the zero rate significantly drops compared to the swap rate, indicating a discrepancy in long-term interest rate expectations or market conditions.\n",
    "\n",
    "- Market Expectations and Liquidity: Swap rates are influenced by the expectations of future interest rates, credit risk, and liquidity in the swap market. In contrast, zero rates are purely derived from the current market prices of zero-coupon bonds or derived from bond prices, reflecting the market's view on future interest rates without the swap market's credit and liquidity considerations.\n"
   ]
  },
  {
   "cell_type": "markdown",
   "id": "86584c1d-421d-4085-9ee5-30b09ea348d9",
   "metadata": {},
   "source": [
    "##### (f) Shift all forward rates up 100 basis points and re-calculate the breakeven swap rates for each benchmark point. Generate a table of new swap rates. Are these rates equivalent to having shifted the swap rates directly?"
   ]
  },
  {
   "cell_type": "code",
   "execution_count": 15,
   "id": "2e0b9d25-86c5-47dc-a5cd-2308e3a78a6a",
   "metadata": {},
   "outputs": [],
   "source": [
    "def for_up_swr(f_list, basis_list):\n",
    "\n",
    "    for i in range(len(f_list)):\n",
    "        f_list[i] += basis_list[i]\n",
    "        \n",
    "    f1, f2, f3, f4, f5, f7, f10, f30 = f_list\n",
    "    \n",
    "    sw1 = f1 * sum((1+0.5*f1)**-i for i in range(1,3)) / sum((1+0.5*f1)**-i for i in range(1,3))\n",
    "\n",
    "    D1 = 1 / (1+0.5*f1)**2\n",
    "\n",
    "    sw2 = f1 * sum((1+0.5*f1)**-i for i in range(1,3)) + f2 * D1 * sum((1+0.5*f2)**-i for i in range(1,3))\n",
    "    sw2 /= sum((1+0.5*f1)**-i for i in range(1,3)) + D1 * sum((1+0.5*f2)**-i for i in range(1,3))\n",
    "\n",
    "    D2 = D1 / (1+0.5*f2)**2\n",
    "    \n",
    "    sw3 = f1 * sum((1+0.5*f1)**-i for i in range(1,3)) + f2 * D1 * sum((1+0.5*f2)**-i for i in range(1,3)) + f3 * D2 * sum((1+0.5*f3)**-i for i in range(1,3)) \n",
    "    sw3 /= sum((1+0.5*f1)**-i for i in range(1,3)) + D1 * sum((1+0.5*f2)**-i for i in range(1,3)) + D2 * sum((1+0.5*f3)**-i for i in range(1,3))\n",
    "\n",
    "    D3 = D2 / (1+0.5*f3)**2\n",
    "    \n",
    "    sw4 = f1 * sum((1+0.5*f1)**-i for i in range(1,3)) + f2 * D1 * sum((1+0.5*f2)**-i for i in range(1,3)) + f3 * D2 * sum((1+0.5*f3)**-i for i in range(1,3)) + f4 * D3 * sum((1+0.5*f4)**-i for i in range(1,3))\n",
    "    sw4 /= sum((1+0.5*f1)**-i for i in range(1,3)) + D1 * sum((1+0.5*f2)**-i for i in range(1,3)) + D2 * sum((1+0.5*f3)**-i for i in range(1,3)) + D3 * sum((1+0.5*f4)**-i for i in range(1,3))\n",
    "\n",
    "    D4 = D3 / (1+0.5*f4)**2\n",
    "    \n",
    "    sw5 = f1 * sum((1+0.5*f1)**-i for i in range(1,3)) + f2 * D1 * sum((1+0.5*f2)**-i for i in range(1,3)) + f3 * D2 * sum((1+0.5*f3)**-i for i in range(1,3)) + f4 * D3 * sum((1+0.5*f4)**-i for i in range(1,3)) + f5 * D4 * sum((1+0.5*f5)**-i for i in range(1,3))\n",
    "    sw5 /= sum((1+0.5*f1)**-i for i in range(1,3)) + D1 * sum((1+0.5*f2)**-i for i in range(1,3)) + D2 * sum((1+0.5*f3)**-i for i in range(1,3)) + D3 * sum((1+0.5*f4)**-i for i in range(1,3)) + D4 * sum((1+0.5*f5)**-i for i in range(1,3))\n",
    "\n",
    "    D5 = D4 / (1+0.5*f5)**2\n",
    "    \n",
    "    sw7 = f1 * sum((1+0.5*f1)**-i for i in range(1,3)) + f2 * D1 * sum((1+0.5*f2)**-i for i in range(1,3)) + f3 * D2 * sum((1+0.5*f3)**-i for i in range(1,3)) + f4 * D3 * sum((1+0.5*f4)**-i for i in range(1,3)) + f5 * D4 * sum((1+0.5*f5)**-i for i in range(1,3)) + f7 * D5 * sum((1+0.5*f7)**-i for i in range(1,5))\n",
    "    sw7 /= sum((1+0.5*f1)**-i for i in range(1,3)) + D1 * sum((1+0.5*f2)**-i for i in range(1,3)) + D2 * sum((1+0.5*f3)**-i for i in range(1,3)) + D3 * sum((1+0.5*f4)**-i for i in range(1,3)) + D4 * sum((1+0.5*f5)**-i for i in range(1,3)) + D5 * sum((1+0.5*f7)**-i for i in range(1,5))\n",
    "\n",
    "    D7 = D5 / (1+0.5*f7)**4\n",
    "    \n",
    "    sw10 = f1 * sum((1+0.5*f1)**-i for i in range(1,3)) + f2 * D1 * sum((1+0.5*f2)**-i for i in range(1,3)) + f3 * D2 * sum((1+0.5*f3)**-i for i in range(1,3)) + f4 * D3 * sum((1+0.5*f4)**-i for i in range(1,3)) + f5 * D4 * sum((1+0.5*f5)**-i for i in range(1,3)) + f7 * D5 * sum((1+0.5*f7)**-i for i in range(1,5)) + f10 * D7 * sum((1+0.5*f10)**-i for i in range(1,7)) \n",
    "    sw10 /= sum((1+0.5*f1)**-i for i in range(1,3)) + D1 * sum((1+0.5*f2)**-i for i in range(1,3)) + D2 * sum((1+0.5*f3)**-i for i in range(1,3)) + D3 * sum((1+0.5*f4)**-i for i in range(1,3)) + D4 * sum((1+0.5*f5)**-i for i in range(1,3)) + D5 * sum((1+0.5*f7)**-i for i in range(1,5)) + D7 * sum((1+0.5*f10)**-i for i in range(1,7))\n",
    "\n",
    "    D10 = D7 / (1+0.5*f10)**6\n",
    "    \n",
    "    sw30 = f1 * sum((1+0.5*f1)**-i for i in range(1,3)) + f2 * D1 * sum((1+0.5*f2)**-i for i in range(1,3)) + f3 * D2 * sum((1+0.5*f3)**-i for i in range(1,3)) + f4 * D3 * sum((1+0.5*f4)**-i for i in range(1,3)) + f5 * D4 * sum((1+0.5*f5)**-i for i in range(1,3)) + f7 * D5 * sum((1+0.5*f7)**-i for i in range(1,5)) + f10 * D7 * sum((1+0.5*f10)**-i for i in range(1,7)) + f30 * D10 * sum((1+0.5*f30)**-i for i in range(1,41))\n",
    "    sw30 /= sum((1+0.5*f1)**-i for i in range(1,3)) + D1 * sum((1+0.5*f2)**-i for i in range(1,3)) + D2 * sum((1+0.5*f3)**-i for i in range(1,3)) + D3 * sum((1+0.5*f4)**-i for i in range(1,3)) + D4 * sum((1+0.5*f5)**-i for i in range(1,3)) + D5 * sum((1+0.5*f7)**-i for i in range(1,5)) + D7 * sum((1+0.5*f10)**-i for i in range(1,7)) + D10 * sum((1+0.5*f30)**-i for i in range(1,41))\n",
    "\n",
    "    return sw1,sw2,sw3,sw4,sw5,sw7,sw10,sw30\n",
    "    \n",
    "basis_list = [0.01 for i in range(8)]\n"
   ]
  },
  {
   "cell_type": "code",
   "execution_count": 16,
   "id": "f539742d-c4d3-4073-b830-deb1c569e394",
   "metadata": {},
   "outputs": [
    {
     "name": "stdout",
     "output_type": "stream",
     "text": [
      "\n",
      "Original vs Modified Swap Rates:\n",
      "\n",
      "   Term  Original  Modified\n",
      "0     1    0.0284    0.0384\n",
      "1     2    0.0306    0.0406\n",
      "2     3    0.0313    0.0412\n",
      "3     4    0.0314    0.0414\n",
      "4     5    0.0315    0.0415\n",
      "5     7    0.0317    0.0417\n",
      "6    10    0.0321    0.0421\n",
      "7    30    0.0324    0.0423\n"
     ]
    }
   ],
   "source": [
    "import pandas as pd\n",
    "\n",
    "original_swaps = [2.8438, 3.060, 3.126, 3.144, 3.150, 3.169, 3.210, 3.237]  \n",
    "original_swaps = [i/100 for i in original_swaps]\n",
    "\n",
    "modified_swaps = for_up_swr(f_list, basis_list)\n",
    "\n",
    "rates = {\n",
    "    'Term': [1, 2, 3, 4, 5, 7, 10, 30],\n",
    "    'Original': [round(r, 4) for r in original_swaps],\n",
    "    'Modified': [round(r, 4) for r in modified_swaps]\n",
    "}\n",
    "\n",
    "df = pd.DataFrame(rates)\n",
    "print(\"\\nOriginal vs Modified Swap Rates:\\n\")\n",
    "print(df)"
   ]
  },
  {
   "cell_type": "markdown",
   "id": "a878bd2e-d131-4dbe-bee8-b81ab91d64f0",
   "metadata": {},
   "source": [
    "The modified swap rates produced by for_up_swr() are equivalent to having directly shifted the swap rates by 0.01 basis points. The end result is the same in both cases.\n",
    "\n",
    "Shifting the forward rates and recalculating is equivalent to shifting the swap rates directly."
   ]
  },
  {
   "cell_type": "markdown",
   "id": "524a4be1-96ba-476f-9982-c4d2026bd323",
   "metadata": {},
   "source": [
    "##### (g) Consider a bearish steepener to the swap rates, that is perform the following shifts on each swap rate:\n",
    "<center>\n",
    "\n",
    "| Term | Rate change (bps) |\n",
    "| :------: | :----------: | \n",
    "| 1Y | +0 |\n",
    "| 2Y | +0 |   \n",
    "| 3Y | +0 |  \n",
    "| 4Y | +5 |  \n",
    "| 5Y | +10 |\n",
    "| 7Y | +15 |\n",
    "| 10Y | +25 |\n",
    "| 30Y | +50 |\n",
    "\n",
    "</center>\n",
    "\n"
   ]
  },
  {
   "cell_type": "code",
   "execution_count": 17,
   "id": "f245d483-83a5-4a2d-a1af-d9302b4cc63e",
   "metadata": {},
   "outputs": [
    {
     "data": {
      "text/plain": [
       "(0.028438,\n",
       " 0.0306,\n",
       " 0.03126,\n",
       " 0.03194,\n",
       " 0.0325,\n",
       " 0.033190000000000004,\n",
       " 0.0346,\n",
       " 0.03737)"
      ]
     },
     "execution_count": 17,
     "metadata": {},
     "output_type": "execute_result"
    }
   ],
   "source": [
    "swap_list=[0.028438,0.03060,0.03126,0.03144,0.03150,0.03169,0.03210,0.03237]\n",
    "\n",
    "basis_list=[0,0,0,0.0005,0.001,0.0015,0.0025,0.005]\n",
    "\n",
    "sw1,sw2,sw3,sw4,sw5,sw7,sw10,sw30=[sw+basis for sw,basis in zip(swap_list,basis_list)]\n",
    "sw1,sw2,sw3,sw4,sw5,sw7,sw10,sw30"
   ]
  },
  {
   "cell_type": "markdown",
   "id": "3a8d99af-3c2d-44cb-a106-cd326881eaf4",
   "metadata": {},
   "source": [
    "##### (h) Re-run your bootstrapping procedure with this new curve. Comment on the changes to the forward rates."
   ]
  },
  {
   "cell_type": "code",
   "execution_count": 18,
   "id": "98db9c03-e54a-42bf-9d0f-d467fb3b8024",
   "metadata": {},
   "outputs": [],
   "source": [
    "# Convert the original inner function into a standalone function\n",
    "def swap_present_value(f1, sw1):\n",
    "    # Calculate the present value (PV)\n",
    "    PV = 0.5 * sw1 / (1 + 0.5 * f1) + 0.5 * sw1 / (1 + 0.5 * f1)**2\n",
    "    # Return the difference between PV and the forward rate calculations\n",
    "    return PV - 0.5 * f1 / (1 + 0.5 * f1) - 0.5 * f1 / (1 + 0.5 * f1)**2\n",
    "\n",
    "# Modified swap_to_forward_1Y function, uses the args parameter to pass the additional sw1 parameter\n",
    "def swap_to_forward_1Y(sw1):\n",
    "    # fsolve now calls the swap_present_value function, passing sw1 as a parameter\n",
    "    forward_rate = fsolve(swap_present_value, x0=sw1, args=(sw1,))\n",
    "    return forward_rate[0]\n"
   ]
  },
  {
   "cell_type": "code",
   "execution_count": 19,
   "id": "d09fa156-1694-4f6d-9d07-f23aa5eb7541",
   "metadata": {},
   "outputs": [
    {
     "name": "stdout",
     "output_type": "stream",
     "text": [
      "0.028437999999999998\n",
      "0.9721572416487895\n"
     ]
    }
   ],
   "source": [
    "f1 = swap_to_forward_1Y(2.8438 / 100)\n",
    "print(f1)\n",
    "D1 = 1 / (1 + 0.5*f1)**2\n",
    "print(D1)"
   ]
  },
  {
   "cell_type": "code",
   "execution_count": 21,
   "id": "976f181a-6a35-4417-aa1e-bb94343889f6",
   "metadata": {},
   "outputs": [
    {
     "data": {
      "text/plain": [
       "(0.032831130386268975, 0.9410092691367571)"
      ]
     },
     "execution_count": 21,
     "metadata": {},
     "output_type": "execute_result"
    }
   ],
   "source": [
    "# Standalone function to calculate the present value difference for a two-year swap\n",
    "def swap_present_value(f2, sw2, f1):\n",
    "    # Calculate the present value of swap payments\n",
    "    PV1 = sw2 / (1 + 0.5 * f1) + sw2 / (1 + 0.5 * f1)**2 + sw2 / ((1 + 0.5 * f1)**2 * (1 + 0.5 * f2)) + sw2 / ((1 + 0.5 * f1)**2 * (1 + 0.5 * f2)**2)\n",
    "    # Calculate the present value of forward rate payments\n",
    "    PV2 = f1 / (1 + 0.5 * f1) + f1 / (1 + 0.5 * f1)**2 + f2 / ((1 + 0.5 * f1)**2 * (1 + 0.5 * f2)) + f2 / ((1 + 0.5 * f1)**2 * (1 + 0.5 * f2)**2)\n",
    "    # Return the difference in present values\n",
    "    return PV1 - PV2\n",
    "\n",
    "# Function to solve for the second year's forward rate\n",
    "def swap_to_forward_2Y(sw2, f1):\n",
    "    # Use fsolve to solve for the second year's forward rate\n",
    "    forward_rate_2Y = fsolve(swap_present_value, x0=sw2, args=(sw2, f1))\n",
    "    return forward_rate_2Y[0]\n",
    "\n",
    "# Calculate the forward rate for the second year\n",
    "f2 = swap_to_forward_2Y(sw2, f1)\n",
    "# Calculate the discount factor for the second year\n",
    "D2 = D1 / ((1 + 0.5 * f2)**2)\n",
    "\n",
    "f2, D2\n"
   ]
  },
  {
   "cell_type": "code",
   "execution_count": 22,
   "id": "7ba1e6bc-e814-408a-bcc9-d5ee3857ae56",
   "metadata": {},
   "outputs": [
    {
     "data": {
      "text/plain": [
       "(0.03264530551203545, 0.9110258289278597)"
      ]
     },
     "execution_count": 22,
     "metadata": {},
     "output_type": "execute_result"
    }
   ],
   "source": [
    "def swap_present_value_3Y(f3, sw3, f1, f2):\n",
    "    PV1 = sw3 / (1 + 0.5 * f1) + sw3 / (1 + 0.5 * f1)**2 + sw3 / ((1 + 0.5 * f1)**2 * (1 + 0.5 * f2)) + sw3 / ((1 + 0.5 * f1)**2 * (1 + 0.5 * f2)**2) + sw3 / ((1 + 0.5 * f1)**2 * (1 + 0.5 * f2)**2 * (1 + 0.5 * f3)) + sw3 / ((1 + 0.5 * f1)**2 * (1 + 0.5 * f2)**2 * (1 + 0.5 * f3)**2)\n",
    "    PV2 = f1 / (1 + 0.5 * f1) + f1 / (1 + 0.5 * f1)**2 + f2 / ((1 + 0.5 * f1)**2 * (1 + 0.5 * f2)) + f2 / ((1 + 0.5 * f1)**2 * (1 + 0.5 * f2)**2) + f3 / ((1 + 0.5 * f1)**2 * (1 + 0.5 * f2)**2 * (1 + 0.5 * f3)) + f3 / ((1 + 0.5 * f1)**2 * (1 + 0.5 * f2)**2 * (1 + 0.5 * f3)**2)\n",
    "    return PV1 - PV2\n",
    "\n",
    "def swap_to_forward_3Y(sw3, f1, f2):\n",
    "    forward_rate_3Y = fsolve(swap_present_value_3Y, x0=sw3, args=(sw3, f1, f2))\n",
    "    return forward_rate_3Y[0]\n",
    "\n",
    "\n",
    "f3 = swap_to_forward_3Y(sw3, f1, f2)\n",
    "\n",
    "D3 = D2 / ((1 + 0.5 * f3)**2)\n",
    "\n",
    "f3, D3"
   ]
  },
  {
   "cell_type": "code",
   "execution_count": 23,
   "id": "1a519654-ea01-4850-82de-7bf142c51eb3",
   "metadata": {},
   "outputs": [
    {
     "data": {
      "text/plain": [
       "(0.03411899988499989, 0.8807202227901273)"
      ]
     },
     "execution_count": 23,
     "metadata": {},
     "output_type": "execute_result"
    }
   ],
   "source": [
    "def swap_present_value_4Y(f4, sw4, f1, f2, f3):\n",
    "    PV = sw4/(1+0.5*f1) + sw4/(1+0.5*f1)**2 + sw4/((1+0.5*f1)**2*(1+0.5*f2)) + sw4/((1+0.5*f1)**2*(1+0.5*f2)**2) + sw4/((1+0.5*f1)**2*(1+0.5*f2)**2*(1+0.5*f3)) + sw4/((1+0.5*f1)**2*(1+0.5*f2)**2*(1+0.5*f3)**2) + sw4/((1+0.5*f1)**2*(1+0.5*f2)**2*(1+0.5*f3)**2*(1+0.5*f4)) + sw4/((1+0.5*f1)**2*(1+0.5*f2)**2*(1+0.5*f3)**2*(1+0.5*f4)**2)\n",
    "    PV2 = f1/(1+0.5*f1) + f1/(1+0.5*f1)**2 + f2/((1+0.5*f1)**2*(1+0.5*f2)) + f2/((1+0.5*f1)**2*(1+0.5*f2)**2) + f3/((1+0.5*f1)**2*(1+0.5*f2)**2*(1+0.5*f3)) + f3/((1+0.5*f1)**2*(1+0.5*f2)**2*(1+0.5*f3)**2) + f4/((1+0.5*f1)**2*(1+0.5*f2)**2*(1+0.5*f3)**2*(1+0.5*f4)) + f4/((1+0.5*f1)**2*(1+0.5*f2)**2*(1+0.5*f3)**2*(1+0.5*f4)**2)\n",
    "    return PV - PV2\n",
    "\n",
    "\n",
    "def swap_to_forward_4Y(sw4, f1, f2, f3):\n",
    "    forward_rate_4Y = fsolve(lambda f4: swap_present_value_4Y(f4, sw4, f1, f2, f3), sw4)\n",
    "    return forward_rate_4Y[0]\n",
    "\n",
    "f4 = swap_to_forward_4Y(sw4, f1, f2, f3)\n",
    "\n",
    "D4 = D3 / ((1 + 0.5 * f4)**2)\n",
    "\n",
    "f4,D4"
   ]
  },
  {
   "cell_type": "code",
   "execution_count": 24,
   "id": "a61ec103-7533-4c17-9c07-5ea58663ebdb",
   "metadata": {},
   "outputs": [
    {
     "data": {
      "text/plain": [
       "(0.034936952865818174, 0.8507384140726433)"
      ]
     },
     "execution_count": 24,
     "metadata": {},
     "output_type": "execute_result"
    }
   ],
   "source": [
    "def swap_present_value_5Y(f5, sw5, f1, f2, f3, f4):\n",
    "    PV = sw5*sum((1+0.5*f1)**-i for i in range(1, 3)) + sw5/((1+0.5*f1)**2*(1+0.5*f2)) + sw5/((1+0.5*f1)**2*(1+0.5*f2)**2) + sw5/((1+0.5*f1)**2*(1+0.5*f2)**2*(1+0.5*f3)) + sw5/((1+0.5*f1)**2*(1+0.5*f2)**2*(1+0.5*f3)**2) + sw5/((1+0.5*f1)**2*(1+0.5*f2)**2*(1+0.5*f3)**2*(1+0.5*f4)) + sw5/((1+0.5*f1)**2*(1+0.5*f2)**2*(1+0.5*f3)**2*(1+0.5*f4)**2) + sw5/((1+0.5*f1)**2*(1+0.5*f2)**2*(1+0.5*f3)**2*(1+0.5*f4)**2*(1+0.5*f5)) + sw5/((1+0.5*f1)**2*(1+0.5*f2)**2*(1+0.5*f3)**2*(1+0.5*f4)**2*(1+0.5*f5)**2)\n",
    "    PV2 = f1/(1+0.5*f1) + f1/(1+0.5*f1)**2 + f2/((1+0.5*f1)**2*(1+0.5*f2)) + f2/((1+0.5*f1)**2*(1+0.5*f2)**2) + f3/((1+0.5*f1)**2*(1+0.5*f2)**2*(1+0.5*f3)) + f3/((1+0.5*f1)**2*(1+0.5*f2)**2*(1+0.5*f3)**2) + f4/((1+0.5*f1)**2*(1+0.5*f2)**2*(1+0.5*f3)**2*(1+0.5*f4)) + f4/((1+0.5*f1)**2*(1+0.5*f2)**2*(1+0.5*f3)**2*(1+0.5*f4)**2) + f5/((1+0.5*f1)**2*(1+0.5*f2)**2*(1+0.5*f3)**2*(1+0.5*f4)**2*(1+0.5*f5)) + f5/((1+0.5*f1)**2*(1+0.5*f2)**2*(1+0.5*f3)**2*(1+0.5*f4)**2*(1+0.5*f5)**2)\n",
    "    return PV - PV2\n",
    "\n",
    "def swap_to_forward_5Y(sw5, f1, f2, f3, f4):\n",
    "\n",
    "    forward_rate_5Y = fsolve(lambda f5: swap_present_value_5Y(f5, sw5, f1, f2, f3, f4), sw5)\n",
    "    return forward_rate_5Y[0]\n",
    "\n",
    "f5 = swap_to_forward_5Y(sw5, f1, f2, f3, f4)\n",
    "\n",
    "\n",
    "D5 = D4 / (1 + 0.5 * f5)**2\n",
    "\n",
    "f5,D5"
   ]
  },
  {
   "cell_type": "code",
   "execution_count": 25,
   "id": "5fde2eb0-144a-4c54-b598-04b46ce3efdf",
   "metadata": {},
   "outputs": [
    {
     "data": {
      "text/plain": [
       "(0.035134972565236094, 0.7934931028923888)"
      ]
     },
     "execution_count": 25,
     "metadata": {},
     "output_type": "execute_result"
    }
   ],
   "source": [
    "def swap_present_value_7Y(f7, sw7, f1, f2, f3, f4, f5, D1, D2, D3, D4, D5):\n",
    "    PV = (sw7 * sum((1 + 0.5 * f1) ** -i for i in range(1, 3)) +\n",
    "          sw7 * D1 * sum((1 + 0.5 * f2) ** -i for i in range(1, 3)) +\n",
    "          sw7 * D2 * sum((1 + 0.5 * f3) ** -i for i in range(1, 3)) +\n",
    "          sw7 * D3 * sum((1 + 0.5 * f4) ** -i for i in range(1, 3)) +\n",
    "          sw7 * D4 * sum((1 + 0.5 * f5) ** -i for i in range(1, 3)) +\n",
    "          sw7 * D5 * sum((1 + 0.5 * f7) ** -i for i in range(1, 5)))\n",
    "    PV2 = (f1 * sum((1 + 0.5 * f1) ** -i for i in range(1, 3)) +\n",
    "           f2 * D1 * sum((1 + 0.5 * f2) ** -i for i in range(1, 3)) +\n",
    "           f3 * D2 * sum((1 + 0.5 * f3) ** -i for i in range(1, 3)) +\n",
    "           f4 * D3 * sum((1 + 0.5 * f4) ** -i for i in range(1, 3)) +\n",
    "           f5 * D4 * sum((1 + 0.5 * f5) ** -i for i in range(1, 3)) +\n",
    "           f7 * D5 * sum((1 + 0.5 * f7) ** -i for i in range(1, 5)))\n",
    "    return PV - PV2\n",
    "\n",
    "def swap_to_forward_7Y(sw7, f1, f2, f3, f4, f5, D1, D2, D3, D4, D5):\n",
    "    forward_rate_7Y = fsolve(lambda f7: swap_present_value_7Y(f7, sw7, f1, f2, f3, f4, f5, D1, D2, D3, D4, D5), sw7)\n",
    "    return forward_rate_7Y[0]\n",
    "\n",
    "f7 = swap_to_forward_7Y(sw7, f1, f2, f3, f4, f5, D1, D2, D3, D4, D5)\n",
    "\n",
    "\n",
    "D7 = D5 / (1 + f7 * 0.5) ** 4\n",
    "\n",
    "f7,D7"
   ]
  },
  {
   "cell_type": "code",
   "execution_count": 26,
   "id": "de95cb4e-ffa6-4c33-9b77-a0a8c2e85bee",
   "metadata": {},
   "outputs": [
    {
     "data": {
      "text/plain": [
       "(0.03853787653877865, 0.7076368151287791)"
      ]
     },
     "execution_count": 26,
     "metadata": {},
     "output_type": "execute_result"
    }
   ],
   "source": [
    "def swap_present_value_10Y(f10, sw10, f1, f2, f3, f4, f5, f7, D1, D2, D3, D4, D5, D7):\n",
    "    PV = (sw10 * sum((1 + 0.5 * f1) ** -i for i in range(1, 3)) +\n",
    "          sw10 * D1 * sum((1 + 0.5 * f2) ** -i for i in range(1, 3)) +\n",
    "          sw10 * D2 * sum((1 + 0.5 * f3) ** -i for i in range(1, 3)) +\n",
    "          sw10 * D3 * sum((1 + 0.5 * f4) ** -i for i in range(1, 3)) +\n",
    "          sw10 * D4 * sum((1 + 0.5 * f5) ** -i for i in range(1, 3)) +\n",
    "          sw10 * D5 * sum((1 + 0.5 * f7) ** -i for i in range(1, 5)) +\n",
    "          sw10 * D7 * sum((1 + 0.5 * f10) ** -i for i in range(1, 7)))\n",
    "    PV2 = (f1 * sum((1 + 0.5 * f1) ** -i for i in range(1, 3)) +\n",
    "           f2 * D1 * sum((1 + 0.5 * f2) ** -i for i in range(1, 3)) +\n",
    "           f3 * D2 * sum((1 + 0.5 * f3) ** -i for i in range(1, 3)) +\n",
    "           f4 * D3 * sum((1 + 0.5 * f4) ** -i for i in range(1, 3)) +\n",
    "           f5 * D4 * sum((1 + 0.5 * f5) ** -i for i in range(1, 3)) +\n",
    "           f7 * D5 * sum((1 + 0.5 * f7) ** -i for i in range(1, 5)) +\n",
    "           f10 * D7 * sum((1 + 0.5 * f10) ** -i for i in range(1, 7)))\n",
    "    return PV - PV2\n",
    "\n",
    "def swap_to_forward_10Y(sw10, f1, f2, f3, f4, f5, f7, D1, D2, D3, D4, D5, D7):\n",
    "    forward_rate_10Y = fsolve(lambda f10: swap_present_value_10Y(f10, sw10, f1, f2, f3, f4, f5, f7, D1, D2, D3, D4, D5, D7), sw10)\n",
    "    return forward_rate_10Y[0]\n",
    "\n",
    "f10 = swap_to_forward_10Y(sw10, f1, f2, f3, f4, f5, f7, D1, D2, D3, D4, D5, D7)\n",
    "\n",
    "D10 = D7 / (1 + f10 * 0.5) ** 6\n",
    "f10,D10"
   ]
  },
  {
   "cell_type": "code",
   "execution_count": 27,
   "id": "1aceb2fe-55ce-447a-9eea-0b0e43a21cd1",
   "metadata": {},
   "outputs": [
    {
     "data": {
      "text/plain": [
       "(0.03978366720532815, 0.47723043447913865)"
      ]
     },
     "execution_count": 27,
     "metadata": {},
     "output_type": "execute_result"
    }
   ],
   "source": [
    "# Standalone swap_present_value function\n",
    "def swap_present_value_30Y(f30, sw30, f1, f2, f3, f4, f5, f7, f10, D1, D2, D3, D4, D5, D7, D10):\n",
    "    PV = (sw30 * sum((1 + 0.5 * f1) ** -i for i in range(1, 3)) +\n",
    "          sw30 * D1 * sum((1 + 0.5 * f2) ** -i for i in range(1, 3)) +\n",
    "          sw30 * D2 * sum((1 + 0.5 * f3) ** -i for i in range(1, 3)) +\n",
    "          sw30 * D3 * sum((1 + 0.5 * f4) ** -i for i in range(1, 3)) +\n",
    "          sw30 * D4 * sum((1 + 0.5 * f5) ** -i for i in range(1, 3)) +\n",
    "          sw30 * D5 * sum((1 + 0.5 * f7) ** -i for i in range(1, 5)) +\n",
    "          sw30 * D7 * sum((1 + 0.5 * f10) ** -i for i in range(1, 7)) +\n",
    "          sw30 * D10 * sum((1 + 0.5 * f30) ** -i for i in range(1, 41)))\n",
    "    PV2 = (f1 * sum((1 + 0.5 * f1) ** -i for i in range(1, 3)) +\n",
    "           f2 * D1 * sum((1 + 0.5 * f2) ** -i for i in range(1, 3)) +\n",
    "           f3 * D2 * sum((1 + 0.5 * f3) ** -i for i in range(1, 3)) +\n",
    "           f4 * D3 * sum((1 + 0.5 * f4) ** -i for i in range(1, 3)) +\n",
    "           f5 * D4 * sum((1 + 0.5 * f5) ** -i for i in range(1, 3)) +\n",
    "           f7 * D5 * sum((1 + 0.5 * f7) ** -i for i in range(1, 5)) +\n",
    "           f10 * D7 * sum((1 + 0.5 * f10) ** -i for i in range(1, 7)) +\n",
    "           f30 * D10 * sum((1 + 0.5 * f30) ** -i for i in range(1, 41)))\n",
    "    return PV - PV2\n",
    "\n",
    "# Refactored swap_to_forward_30Y function\n",
    "def swap_to_forward_30Y(sw30, f1, f2, f3, f4, f5, f7, f10, D1, D2, D3, D4, D5, D7, D10):\n",
    "    forward_rate_30Y = fsolve(lambda f30: swap_present_value_30Y(f30, sw30, f1, f2, f3, f4, f5, f7, f10, D1, D2, D3, D4, D5, D7, D10), sw30)\n",
    "    return forward_rate_30Y[0]\n",
    "\n",
    "# Using the refactored function to calculate f30\n",
    "f30 = swap_to_forward_30Y(sw30, f1, f2, f3, f4, f5, f7, f10, D1, D2, D3, D4, D5, D7, D10)\n",
    "\n",
    "# Calculating D30\n",
    "D30 = D10 / (1 + f30 * 0.5) ** 20\n",
    "f30,D30"
   ]
  },
  {
   "cell_type": "code",
   "execution_count": 28,
   "id": "4b6658d6-d5d2-4cd1-aa1a-99a60141606e",
   "metadata": {},
   "outputs": [
    {
     "data": {
      "text/plain": [
       "[0.028437999999999998,\n",
       " 0.032831130386268975,\n",
       " 0.03264530551203545,\n",
       " 0.03411899988499989,\n",
       " 0.034936952865818174,\n",
       " 0.035134972565236094,\n",
       " 0.03853787653877865,\n",
       " 0.03978366720532815]"
      ]
     },
     "execution_count": 28,
     "metadata": {},
     "output_type": "execute_result"
    }
   ],
   "source": [
    "f_list_new = [f1,f2,f3,f4,f5,f7,f10,f30]\n",
    "f_list_new"
   ]
  },
  {
   "cell_type": "markdown",
   "id": "3924431f-8397-4322-bbfb-58600508bfdd",
   "metadata": {},
   "source": [
    "After applying the bearish steepener adjustments to the swap rates and recalculating the forward rates, here are the key points:\n",
    "\n",
    "1. **No Change in Short Term**: The forward rates for the 1-year and 2-year terms didn't change, reflecting stability in the short-term interest rate expectations.\n",
    "\n",
    "2. **Increases in Longer Terms**: Starting from the 4-year term forward, rates increased, more noticeably for the longer maturities (7Y, 10Y, and 30Y). This change is due to the applied steepener, indicating expectations of rising rates or inflation over time.\n",
    "\n",
    "3. **Steepening Curve**: The curve steepened, especially in the longer end, showing a market expectation of higher interest rates or economic growth/inflation in the future.\n",
    "\n",
    "4. **Impact of Bearish Steepener**: The adjustments suggest a market view that anticipates higher future risks or inflationary pressures, especially affecting longer-term financial planning and strategies."
   ]
  },
  {
   "cell_type": "markdown",
   "id": "91caed89-2628-483e-afbb-44b5205a5768",
   "metadata": {},
   "source": [
    "##### (i) Consider a bull steepener to the swap rates, that is perform the following shifts on each swap rate:\n",
    "<center>\n",
    "\n",
    "| Term | Rate change (bps) |\n",
    "| :------: | :----------: | \n",
    "| 1Y | -50 |\n",
    "| 2Y | -25 |   \n",
    "| 3Y | -15 |  \n",
    "| 4Y | -10 |  \n",
    "| 5Y | -5 |\n",
    "| 7Y | +0 |\n",
    "| 10Y | +0 |\n",
    "| 30Y | +50 |\n",
    "\n",
    "</center>\n",
    "\n",
    "Print the new swap rates."
   ]
  },
  {
   "cell_type": "code",
   "execution_count": 39,
   "id": "875b2b7e-abce-42a5-8878-8172059a13e1",
   "metadata": {},
   "outputs": [
    {
     "data": {
      "text/plain": [
       "(0.023438,\n",
       " 0.0281,\n",
       " 0.02976,\n",
       " 0.030440000000000002,\n",
       " 0.031,\n",
       " 0.03169,\n",
       " 0.0321,\n",
       " 0.03237)"
      ]
     },
     "execution_count": 39,
     "metadata": {},
     "output_type": "execute_result"
    }
   ],
   "source": [
    "swap_list=[0.028438,0.03060,0.03126,0.03144,0.03150,0.03169,0.03210,0.03237]\n",
    "basis_list=[-0.005,-0.0025,-0.0015,-0.001,-0.0005,0,0,0]\n",
    "\n",
    "sw1,sw2,sw3,sw4,sw5,sw7,sw10,sw30=[sw + basis for sw,basis in zip(swap_list,basis_list)]\n",
    "sw1,sw2,sw3,sw4,sw5,sw7,sw10,sw30"
   ]
  },
  {
   "cell_type": "markdown",
   "id": "48ed3c00-a8f6-42af-8645-0895e8c7fc2d",
   "metadata": {},
   "source": [
    "##### (j) Re-run your bootstrapping procedure with this new curve. Comment on the changes to the forward rates."
   ]
  },
  {
   "cell_type": "code",
   "execution_count": 30,
   "id": "81426ca4-52dc-4e81-98f2-7e033c844929",
   "metadata": {},
   "outputs": [
    {
     "name": "stdout",
     "output_type": "stream",
     "text": [
      "0.023438\n",
      "0.9769676601655329\n"
     ]
    }
   ],
   "source": [
    "def swap_present_value(f1, sw1):\n",
    "    PV = 0.5 * sw1 / (1 + 0.5 * f1) + 0.5 * sw1 / (1 + 0.5 * f1)**2\n",
    "    return PV - 0.5 * f1 / (1 + 0.5 * f1) - 0.5 * f1 / (1 + 0.5 * f1)**2\n",
    "\n",
    "def swap_to_forward_1Y(sw1):\n",
    "    forward_rate = fsolve(swap_present_value, x0=sw1, args=(sw1,))\n",
    "    return forward_rate[0]\n",
    "\n",
    "f1 = swap_to_forward_1Y(sw1)\n",
    "print(f1)\n",
    "D1 = 1 / (1 + 0.5*f1)**2\n",
    "print(D1)"
   ]
  },
  {
   "cell_type": "code",
   "execution_count": 31,
   "id": "6c5fb802-2362-4012-8fc9-2c4171275697",
   "metadata": {},
   "outputs": [
    {
     "data": {
      "text/plain": [
       "(0.03290535948429921, 0.9455965031506183)"
      ]
     },
     "execution_count": 31,
     "metadata": {},
     "output_type": "execute_result"
    }
   ],
   "source": [
    "def swap_present_value(f2, sw2, f1):\n",
    "    PV1 = sw2 / (1 + 0.5 * f1) + sw2 / (1 + 0.5 * f1)**2 + sw2 / ((1 + 0.5 * f1)**2 * (1 + 0.5 * f2)) + sw2 / ((1 + 0.5 * f1)**2 * (1 + 0.5 * f2)**2)\n",
    "    PV2 = f1 / (1 + 0.5 * f1) + f1 / (1 + 0.5 * f1)**2 + f2 / ((1 + 0.5 * f1)**2 * (1 + 0.5 * f2)) + f2 / ((1 + 0.5 * f1)**2 * (1 + 0.5 * f2)**2)\n",
    "    return PV1 - PV2\n",
    "\n",
    "\n",
    "def swap_to_forward_2Y(sw2, f1):\n",
    "    forward_rate_2Y = fsolve(swap_present_value, x0=sw2, args=(sw2, f1))\n",
    "    return forward_rate_2Y[0]\n",
    "\n",
    "\n",
    "f2 = swap_to_forward_2Y(sw2,f1)\n",
    "\n",
    "D2 = D1 / ((1 + 0.5 * f2)**2)\n",
    "\n",
    "f2, D2\n"
   ]
  },
  {
   "cell_type": "code",
   "execution_count": 32,
   "id": "f60209f8-01f3-45e9-affc-8c111e55f11a",
   "metadata": {},
   "outputs": [
    {
     "data": {
      "text/plain": [
       "(0.033243751341449745, 0.9149280790879107)"
      ]
     },
     "execution_count": 32,
     "metadata": {},
     "output_type": "execute_result"
    }
   ],
   "source": [
    "def swap_present_value_3Y(f3, sw3, f1, f2):\n",
    "    PV1 = sw3 / (1 + 0.5 * f1) + sw3 / (1 + 0.5 * f1)**2 + sw3 / ((1 + 0.5 * f1)**2 * (1 + 0.5 * f2)) + sw3 / ((1 + 0.5 * f1)**2 * (1 + 0.5 * f2)**2) + sw3 / ((1 + 0.5 * f1)**2 * (1 + 0.5 * f2)**2 * (1 + 0.5 * f3)) + sw3 / ((1 + 0.5 * f1)**2 * (1 + 0.5 * f2)**2 * (1 + 0.5 * f3)**2)\n",
    "    PV2 = f1 / (1 + 0.5 * f1) + f1 / (1 + 0.5 * f1)**2 + f2 / ((1 + 0.5 * f1)**2 * (1 + 0.5 * f2)) + f2 / ((1 + 0.5 * f1)**2 * (1 + 0.5 * f2)**2) + f3 / ((1 + 0.5 * f1)**2 * (1 + 0.5 * f2)**2 * (1 + 0.5 * f3)) + f3 / ((1 + 0.5 * f1)**2 * (1 + 0.5 * f2)**2 * (1 + 0.5 * f3)**2)\n",
    "\n",
    "    return PV1 - PV2\n",
    "\n",
    "def swap_to_forward_3Y(sw3, f1, f2):\n",
    "    forward_rate_3Y = fsolve(swap_present_value_3Y, x0=sw3, args=(sw3, f1, f2))\n",
    "    return forward_rate_3Y[0]\n",
    "\n",
    "f3 = swap_to_forward_3Y(sw3, f1, f2)\n",
    "\n",
    "D3 = D2 / ((1 + 0.5 * f3)**2)\n",
    "\n",
    "f3, D3"
   ]
  },
  {
   "cell_type": "code",
   "execution_count": 33,
   "id": "189755d1-2cf2-4d4a-a5c5-a527bb4faa89",
   "metadata": {},
   "outputs": [
    {
     "data": {
      "text/plain": [
       "(0.03261670364494173, 0.8858005940260291)"
      ]
     },
     "execution_count": 33,
     "metadata": {},
     "output_type": "execute_result"
    }
   ],
   "source": [
    "def swap_present_value_4Y(f4, sw4, f1, f2, f3):\n",
    "    PV = sw4/(1+0.5*f1) + sw4/(1+0.5*f1)**2 + sw4/((1+0.5*f1)**2*(1+0.5*f2)) + sw4/((1+0.5*f1)**2*(1+0.5*f2)**2) + sw4/((1+0.5*f1)**2*(1+0.5*f2)**2*(1+0.5*f3)) + sw4/((1+0.5*f1)**2*(1+0.5*f2)**2*(1+0.5*f3)**2) + sw4/((1+0.5*f1)**2*(1+0.5*f2)**2*(1+0.5*f3)**2*(1+0.5*f4)) + sw4/((1+0.5*f1)**2*(1+0.5*f2)**2*(1+0.5*f3)**2*(1+0.5*f4)**2)\n",
    "    PV2 = f1/(1+0.5*f1) + f1/(1+0.5*f1)**2 + f2/((1+0.5*f1)**2*(1+0.5*f2)) + f2/((1+0.5*f1)**2*(1+0.5*f2)**2) + f3/((1+0.5*f1)**2*(1+0.5*f2)**2*(1+0.5*f3)) + f3/((1+0.5*f1)**2*(1+0.5*f2)**2*(1+0.5*f3)**2) + f4/((1+0.5*f1)**2*(1+0.5*f2)**2*(1+0.5*f3)**2*(1+0.5*f4)) + f4/((1+0.5*f1)**2*(1+0.5*f2)**2*(1+0.5*f3)**2*(1+0.5*f4)**2)\n",
    "    return PV - PV2\n",
    "\n",
    "\n",
    "def swap_to_forward_4Y(sw4, f1, f2, f3):\n",
    "    forward_rate_4Y = fsolve(lambda f4: swap_present_value_4Y(f4, sw4, f1, f2, f3), sw4)\n",
    "    return forward_rate_4Y[0]\n",
    "\n",
    "f4 = swap_to_forward_4Y(sw4, f1, f2, f3)\n",
    "\n",
    "\n",
    "D4 = D3 / ((1 + 0.5 * f4)**2)\n",
    "\n",
    "f4,D4"
   ]
  },
  {
   "cell_type": "code",
   "execution_count": 34,
   "id": "ea5b13c7-97b2-4461-993a-57a513d99a77",
   "metadata": {},
   "outputs": [
    {
     "data": {
      "text/plain": [
       "(0.03343139562806712, 0.856913350718001)"
      ]
     },
     "execution_count": 34,
     "metadata": {},
     "output_type": "execute_result"
    }
   ],
   "source": [
    "def swap_present_value_5Y(f5, sw5, f1, f2, f3, f4):\n",
    "    PV = sw5*sum((1+0.5*f1)**-i for i in range(1, 3)) + sw5/((1+0.5*f1)**2*(1+0.5*f2)) + sw5/((1+0.5*f1)**2*(1+0.5*f2)**2) + sw5/((1+0.5*f1)**2*(1+0.5*f2)**2*(1+0.5*f3)) + sw5/((1+0.5*f1)**2*(1+0.5*f2)**2*(1+0.5*f3)**2) + sw5/((1+0.5*f1)**2*(1+0.5*f2)**2*(1+0.5*f3)**2*(1+0.5*f4)) + sw5/((1+0.5*f1)**2*(1+0.5*f2)**2*(1+0.5*f3)**2*(1+0.5*f4)**2) + sw5/((1+0.5*f1)**2*(1+0.5*f2)**2*(1+0.5*f3)**2*(1+0.5*f4)**2*(1+0.5*f5)) + sw5/((1+0.5*f1)**2*(1+0.5*f2)**2*(1+0.5*f3)**2*(1+0.5*f4)**2*(1+0.5*f5)**2)\n",
    "    PV2 = f1/(1+0.5*f1) + f1/(1+0.5*f1)**2 + f2/((1+0.5*f1)**2*(1+0.5*f2)) + f2/((1+0.5*f1)**2*(1+0.5*f2)**2) + f3/((1+0.5*f1)**2*(1+0.5*f2)**2*(1+0.5*f3)) + f3/((1+0.5*f1)**2*(1+0.5*f2)**2*(1+0.5*f3)**2) + f4/((1+0.5*f1)**2*(1+0.5*f2)**2*(1+0.5*f3)**2*(1+0.5*f4)) + f4/((1+0.5*f1)**2*(1+0.5*f2)**2*(1+0.5*f3)**2*(1+0.5*f4)**2) + f5/((1+0.5*f1)**2*(1+0.5*f2)**2*(1+0.5*f3)**2*(1+0.5*f4)**2*(1+0.5*f5)) + f5/((1+0.5*f1)**2*(1+0.5*f2)**2*(1+0.5*f3)**2*(1+0.5*f4)**2*(1+0.5*f5)**2)\n",
    "    return PV - PV2\n",
    "\n",
    "\n",
    "def swap_to_forward_5Y(sw5, f1, f2, f3, f4):\n",
    "    forward_rate_5Y = fsolve(lambda f5: swap_present_value_5Y(f5, sw5, f1, f2, f3, f4), sw5)\n",
    "    return forward_rate_5Y[0]\n",
    "\n",
    "f5 = swap_to_forward_5Y(sw5, f1, f2, f3, f4)\n",
    "\n",
    "D5 = D4 / (1 + 0.5 * f5)**2\n",
    "\n",
    "f5,D5"
   ]
  },
  {
   "cell_type": "code",
   "execution_count": 35,
   "id": "780f3fc3-f1d7-448f-b573-d48a42937e1c",
   "metadata": {},
   "outputs": [
    {
     "data": {
      "text/plain": [
       "(0.03362707951203227, 0.8016256901458785)"
      ]
     },
     "execution_count": 35,
     "metadata": {},
     "output_type": "execute_result"
    }
   ],
   "source": [
    "def swap_present_value_7Y(f7, sw7, f1, f2, f3, f4, f5, D1, D2, D3, D4, D5):\n",
    "    PV = (sw7 * sum((1 + 0.5 * f1) ** -i for i in range(1, 3)) +\n",
    "          sw7 * D1 * sum((1 + 0.5 * f2) ** -i for i in range(1, 3)) +\n",
    "          sw7 * D2 * sum((1 + 0.5 * f3) ** -i for i in range(1, 3)) +\n",
    "          sw7 * D3 * sum((1 + 0.5 * f4) ** -i for i in range(1, 3)) +\n",
    "          sw7 * D4 * sum((1 + 0.5 * f5) ** -i for i in range(1, 3)) +\n",
    "          sw7 * D5 * sum((1 + 0.5 * f7) ** -i for i in range(1, 5)))\n",
    "    PV2 = (f1 * sum((1 + 0.5 * f1) ** -i for i in range(1, 3)) +\n",
    "           f2 * D1 * sum((1 + 0.5 * f2) ** -i for i in range(1, 3)) +\n",
    "           f3 * D2 * sum((1 + 0.5 * f3) ** -i for i in range(1, 3)) +\n",
    "           f4 * D3 * sum((1 + 0.5 * f4) ** -i for i in range(1, 3)) +\n",
    "           f5 * D4 * sum((1 + 0.5 * f5) ** -i for i in range(1, 3)) +\n",
    "           f7 * D5 * sum((1 + 0.5 * f7) ** -i for i in range(1, 5)))\n",
    "    return PV - PV2\n",
    "\n",
    "def swap_to_forward_7Y(sw7, f1, f2, f3, f4, f5, D1, D2, D3, D4, D5):\n",
    "    forward_rate_7Y = fsolve(lambda f7: swap_present_value_7Y(f7, sw7, f1, f2, f3, f4, f5, D1, D2, D3, D4, D5), sw7)\n",
    "    return forward_rate_7Y[0]\n",
    "\n",
    "f7 = swap_to_forward_7Y(sw7, f1, f2, f3, f4, f5, D1, D2, D3, D4, D5)\n",
    "\n",
    "\n",
    "D7 = D5 / (1 + f7 * 0.5) ** 4\n",
    "\n",
    "f7,D7"
   ]
  },
  {
   "cell_type": "code",
   "execution_count": 36,
   "id": "a964eb31-2f53-41e6-8c70-b38822df30b5",
   "metadata": {},
   "outputs": [
    {
     "data": {
      "text/plain": [
       "(0.03323013440399479, 0.7261600868744981)"
      ]
     },
     "execution_count": 36,
     "metadata": {},
     "output_type": "execute_result"
    }
   ],
   "source": [
    "def swap_present_value_10Y(f10, sw10, f1, f2, f3, f4, f5, f7, D1, D2, D3, D4, D5, D7):\n",
    "    PV = (sw10 * sum((1 + 0.5 * f1) ** -i for i in range(1, 3)) +\n",
    "          sw10 * D1 * sum((1 + 0.5 * f2) ** -i for i in range(1, 3)) +\n",
    "          sw10 * D2 * sum((1 + 0.5 * f3) ** -i for i in range(1, 3)) +\n",
    "          sw10 * D3 * sum((1 + 0.5 * f4) ** -i for i in range(1, 3)) +\n",
    "          sw10 * D4 * sum((1 + 0.5 * f5) ** -i for i in range(1, 3)) +\n",
    "          sw10 * D5 * sum((1 + 0.5 * f7) ** -i for i in range(1, 5)) +\n",
    "          sw10 * D7 * sum((1 + 0.5 * f10) ** -i for i in range(1, 7)))\n",
    "    PV2 = (f1 * sum((1 + 0.5 * f1) ** -i for i in range(1, 3)) +\n",
    "           f2 * D1 * sum((1 + 0.5 * f2) ** -i for i in range(1, 3)) +\n",
    "           f3 * D2 * sum((1 + 0.5 * f3) ** -i for i in range(1, 3)) +\n",
    "           f4 * D3 * sum((1 + 0.5 * f4) ** -i for i in range(1, 3)) +\n",
    "           f5 * D4 * sum((1 + 0.5 * f5) ** -i for i in range(1, 3)) +\n",
    "           f7 * D5 * sum((1 + 0.5 * f7) ** -i for i in range(1, 5)) +\n",
    "           f10 * D7 * sum((1 + 0.5 * f10) ** -i for i in range(1, 7)))\n",
    "    return PV - PV2\n",
    "\n",
    "\n",
    "def swap_to_forward_10Y(sw10, f1, f2, f3, f4, f5, f7, D1, D2, D3, D4, D5, D7):\n",
    "    forward_rate_10Y = fsolve(lambda f10: swap_present_value_10Y(f10, sw10, f1, f2, f3, f4, f5, f7, D1, D2, D3, D4, D5, D7), sw10)\n",
    "    return forward_rate_10Y[0]\n",
    "\n",
    "\n",
    "f10 = swap_to_forward_10Y(sw10, f1, f2, f3, f4, f5, f7, D1, D2, D3, D4, D5, D7)\n",
    "\n",
    "\n",
    "D10 = D7 / (1 + f10 * 0.5) ** 6\n",
    "f10,D10"
   ]
  },
  {
   "cell_type": "code",
   "execution_count": 37,
   "id": "a39142df-9687-4fd1-bfe0-4ce5e2c2aeed",
   "metadata": {},
   "outputs": [
    {
     "data": {
      "text/plain": [
       "(0.03258709705552466, 0.5255923083478515)"
      ]
     },
     "execution_count": 37,
     "metadata": {},
     "output_type": "execute_result"
    }
   ],
   "source": [
    "# Standalone swap_present_value function\n",
    "def swap_present_value_30Y(f30, sw30, f1, f2, f3, f4, f5, f7, f10, D1, D2, D3, D4, D5, D7, D10):\n",
    "    PV = (sw30 * sum((1 + 0.5 * f1) ** -i for i in range(1, 3)) +\n",
    "          sw30 * D1 * sum((1 + 0.5 * f2) ** -i for i in range(1, 3)) +\n",
    "          sw30 * D2 * sum((1 + 0.5 * f3) ** -i for i in range(1, 3)) +\n",
    "          sw30 * D3 * sum((1 + 0.5 * f4) ** -i for i in range(1, 3)) +\n",
    "          sw30 * D4 * sum((1 + 0.5 * f5) ** -i for i in range(1, 3)) +\n",
    "          sw30 * D5 * sum((1 + 0.5 * f7) ** -i for i in range(1, 5)) +\n",
    "          sw30 * D7 * sum((1 + 0.5 * f10) ** -i for i in range(1, 7)) +\n",
    "          sw30 * D10 * sum((1 + 0.5 * f30) ** -i for i in range(1, 41)))\n",
    "    PV2 = (f1 * sum((1 + 0.5 * f1) ** -i for i in range(1, 3)) +\n",
    "           f2 * D1 * sum((1 + 0.5 * f2) ** -i for i in range(1, 3)) +\n",
    "           f3 * D2 * sum((1 + 0.5 * f3) ** -i for i in range(1, 3)) +\n",
    "           f4 * D3 * sum((1 + 0.5 * f4) ** -i for i in range(1, 3)) +\n",
    "           f5 * D4 * sum((1 + 0.5 * f5) ** -i for i in range(1, 3)) +\n",
    "           f7 * D5 * sum((1 + 0.5 * f7) ** -i for i in range(1, 5)) +\n",
    "           f10 * D7 * sum((1 + 0.5 * f10) ** -i for i in range(1, 7)) +\n",
    "           f30 * D10 * sum((1 + 0.5 * f30) ** -i for i in range(1, 41)))\n",
    "    return PV - PV2\n",
    "\n",
    "# Refactored swap_to_forward_30Y function\n",
    "def swap_to_forward_30Y(sw30, f1, f2, f3, f4, f5, f7, f10, D1, D2, D3, D4, D5, D7, D10):\n",
    "    forward_rate_30Y = fsolve(lambda f30: swap_present_value_30Y(f30, sw30, f1, f2, f3, f4, f5, f7, f10, D1, D2, D3, D4, D5, D7, D10), sw30)\n",
    "    return forward_rate_30Y[0]\n",
    "\n",
    "# Using the refactored function to calculate f30\n",
    "f30 = swap_to_forward_30Y(sw30, f1, f2, f3, f4, f5, f7, f10, D1, D2, D3, D4, D5, D7, D10)\n",
    "\n",
    "# Calculating D30\n",
    "D30 = D10 / (1 + f30 * 0.5) ** 20\n",
    "f30,D30"
   ]
  },
  {
   "cell_type": "code",
   "execution_count": 38,
   "id": "9a3b081f-c041-4e21-929e-8452d978d149",
   "metadata": {},
   "outputs": [
    {
     "data": {
      "text/plain": [
       "[0.023438,\n",
       " 0.03290535948429921,\n",
       " 0.033243751341449745,\n",
       " 0.03261670364494173,\n",
       " 0.03343139562806712,\n",
       " 0.03362707951203227,\n",
       " 0.03323013440399479,\n",
       " 0.03258709705552466]"
      ]
     },
     "execution_count": 38,
     "metadata": {},
     "output_type": "execute_result"
    }
   ],
   "source": [
    "f_list_new = [f1,f2,f3,f4,f5,f7,f10,f30]\n",
    "f_list_new"
   ]
  },
  {
   "cell_type": "markdown",
   "id": "e2c90c78-7839-45e1-af0c-6b6d9eb4e073",
   "metadata": {},
   "source": [
    "1. **Short to Mid-Term Rates Drop**:  The forward rates for the short to mid-term decrease significantly, reflecting the lower adjustments in swap rates for these periods.\n",
    "\n",
    "2. **Long-Term Rates Show Mixed Response**: Despite a large increase in the 30-year swap rate, the long-term forward rate doesn't increase as much, indicating a complex view on long-term economic conditions.\n",
    "\n",
    "3. **Curve Steepens at Short End**:  The curve steepens at the short end due to reduced rates, but this steepening doesn't extend uniformly to the long end.\n",
    "\n",
    "4. **Market Expectations**:  The adjustments suggest the market expects lower interest rates or an accommodative policy stance in the near term, with a cautious or mixed outlook for the long term.\n",
    "\n",
    "In essence, the bull steepener adjustment leads to lower short to medium-term forward rates and a nuanced long-term rate outlook, reflecting mixed market expectations for future economic conditions."
   ]
  },
  {
   "cell_type": "code",
   "execution_count": null,
   "id": "330cec2f-46f5-469e-8325-5aefe1fe69e2",
   "metadata": {},
   "outputs": [],
   "source": []
  }
 ],
 "metadata": {
  "kernelspec": {
   "display_name": "Python 3 (ipykernel)",
   "language": "python",
   "name": "python3"
  },
  "language_info": {
   "codemirror_mode": {
    "name": "ipython",
    "version": 3
   },
   "file_extension": ".py",
   "mimetype": "text/x-python",
   "name": "python",
   "nbconvert_exporter": "python",
   "pygments_lexer": "ipython3",
   "version": "3.9.16"
  }
 },
 "nbformat": 4,
 "nbformat_minor": 5
}
