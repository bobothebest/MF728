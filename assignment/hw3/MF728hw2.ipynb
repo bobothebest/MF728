{
 "cells": [
  {
   "cell_type": "markdown",
   "id": "ecd5e7d7-7b97-4cfb-a0d7-3034c150003b",
   "metadata": {},
   "source": [
    "## MF 728: Fixed Income"
   ]
  },
  {
   "cell_type": "markdown",
   "id": "e3338c1c-d71b-494e-a17f-f345ddcc3d0c",
   "metadata": {},
   "source": [
    "### Problem set # 2"
   ]
  },
  {
   "cell_type": "markdown",
   "id": "e9b7b0be-2945-4f2d-aea8-4bb895d510cc",
   "metadata": {},
   "source": [
    "#### 1. CDS Pricing Assume that the risk-free interest rate is 3% for all maturities and suppose that the CDS spreads for contracts that are starting today are given by the table below. Also, assume that the expected recovery R = 40%.\n",
    "| Maturity | premium (bps) |\n",
    "|------|----------|\n",
    "| 1y   | 100   |\n",
    "| 2y   | 110    |\n",
    "| 3y   | 120    |\n",
    "| 5y   | 140    |\n"
   ]
  },
  {
   "cell_type": "markdown",
   "id": "b34279d7-5371-4b9a-8422-1db2272424b5",
   "metadata": {},
   "source": [
    "##### (a) Assume that hazard rate is piecewise-constant and bootstrap the CDS survival curve using the information above."
   ]
  },
  {
   "cell_type": "code",
   "execution_count": 96,
   "id": "36f274ce-8edd-44b0-8f19-29ce8beaff4d",
   "metadata": {},
   "outputs": [],
   "source": [
    "from sympy import symbols, solve\n",
    "\n",
    "def bootstrap_cds_survival_curve_optimized(recovery_rate, discount_factor, s1, s2, s3, s5):\n",
    "    \"\"\"\n",
    "    Optimized function to bootstrap the CDS survival curve using given market spreads.\n",
    "    \n",
    "    :param recovery_rate: Recovery rate of the CDS.\n",
    "    :param discount_factor: Discount factor based on the risk-free rate.\n",
    "    :param s1, s2, s3, s5: Market spreads for 1, 2, 3, and 5 year CDS contracts.\n",
    "    :return: A dictionary of solved survival probabilities for each maturity.\n",
    "    \"\"\"\n",
    "    # Initialize symbols for probabilities\n",
    "    p1, p2, p3, p5 = symbols('p1 p2 p3 p5')\n",
    "    \n",
    "    # Define equations based on market spreads and discount factors\n",
    "    equations = [\n",
    "        # Equation for 1 year CDS\n",
    "        s1/2 * discount_factor * (p1 + 1) - (1 - recovery_rate) * discount_factor * (1 - p1),\n",
    "        \n",
    "        # Equation for 2 year CDS\n",
    "        s2/2 * (discount_factor * (1 + p1) + discount_factor**2 * (p1 + p2)) - (1 - recovery_rate) * (discount_factor * (1 - p1) + discount_factor**2 * (p1 - p2)),\n",
    "        \n",
    "        # Equation for 3 year CDS\n",
    "        s3/2 * (discount_factor * (1 + p1) + discount_factor**2 * (p1 + p2) + discount_factor**3 * (p2 + p3)) - (1 - recovery_rate) * (discount_factor * (1 - p1) + discount_factor**2 * (p1 - p2) + discount_factor**3 * (p2 - p3)),\n",
    "        \n",
    "        # Equation for 5 year CDS, including assumption for p4 as geometric mean of p3 and p5\n",
    "        s5/2 * (discount_factor * (1 + p1) + discount_factor**2 * (p1 + p2) + discount_factor**3 * (p2 + p3) + discount_factor**4 * (p3 + p3*(p5/p3)**0.5) + discount_factor**5 * (p3*(p5/p3)**0.5 + p5)) - (1 - recovery_rate) * (discount_factor * (1 - p1) + discount_factor**2 * (p1 - p2) + discount_factor**3 * (p2 - p3) + discount_factor**4 * (p3 - p3*(p5/p3)**0.5) + discount_factor**5 * (p3*(p5/p3)**0.5 - p5))\n",
    "    ]\n",
    "    \n",
    "    # Solve the system of equations for the survival probabilities\n",
    "    solutions = solve(equations, (p1, p2, p3, p5))\n",
    "    \n",
    "    return solutions\n"
   ]
  },
  {
   "cell_type": "code",
   "execution_count": 97,
   "id": "65c7226d-562c-45a5-af34-06a3f3b7b436",
   "metadata": {},
   "outputs": [
    {
     "name": "stdout",
     "output_type": "stream",
     "text": [
      "Survival Probabilities: [(0.983471074380165, 0.963916788337287, 0.941435914039937, 0.888263456246023)]\n"
     ]
    }
   ],
   "source": [
    "recovery_rate = 0.4  \n",
    "risk_free_rate = 0.03  \n",
    "s1, s2, s3, s5 = 0.01, 0.011, 0.012, 0.014  \n",
    "\n",
    "discount_factor = math.exp(-risk_free_rate)\n",
    "\n",
    "solutions = bootstrap_cds_survival_curve_optimized(recovery_rate, discount_factor, s1, s2, s3, s5)\n",
    "\n",
    "print(\"Survival Probabilities:\", solutions)"
   ]
  },
  {
   "cell_type": "code",
   "execution_count": 99,
   "id": "8ae00cfd-77e0-4cab-b560-cf422087423b",
   "metadata": {},
   "outputs": [
    {
     "name": "stdout",
     "output_type": "stream",
     "text": [
      "Hazard Rates: {'p1': 0.016667052485211987, 'p2': 0.018375153624747884, 'p3': 0.020116333711957163, 'p5': 0.023697379006101933}\n"
     ]
    }
   ],
   "source": [
    "import math\n",
    "p1, p2, p3, p5 = survival_probabilities\n",
    "\n",
    "def calculate_hazard_rates_from_probabilities(p1, p2, p3, p5):\n",
    "    \"\"\"\n",
    "    Calculate hazard rates from given survival probabilities.\n",
    "    \n",
    "    :param p1, p2, p3, p5: Survival probabilities for 1, 2, 3, and 5 year terms.\n",
    "    :return: A dictionary of hazard rates for each term.\n",
    "    \"\"\"\n",
    "    terms = [1, 2, 3, 5]  \n",
    "    probabilities = [p1, p2, p3, p5]  \n",
    "    hazard_rates = {}\n",
    "    \n",
    "    for term, probability in zip(terms, probabilities):\n",
    "        \n",
    "        hazard_rate = -math.log(probability) / term\n",
    "        hazard_rates[f'p{term}'] = hazard_rate\n",
    "    \n",
    "    return hazard_rates\n",
    "    \n",
    "hazard_rates = calculate_hazard_rates_from_probabilities(p1, p2, p3, p5)\n",
    "print(\"Hazard Rates:\", hazard_rates)\n",
    "\n"
   ]
  },
  {
   "cell_type": "markdown",
   "id": "9c64e8f4-16db-4f20-a2ef-184c8b17848f",
   "metadata": {},
   "source": [
    "##### (b) What would be a fair spread for a 4y CDS, that starts today."
   ]
  },
  {
   "cell_type": "code",
   "execution_count": 103,
   "id": "46583120-6b35-4166-8d4b-2f3e3bcbbf63",
   "metadata": {},
   "outputs": [],
   "source": [
    "from sympy import symbols, exp, solve\n",
    "import math\n",
    "\n",
    "def premium_leg(discount_factor, survival_probabilities, s4, recovery_rate):\n",
    "    p1, p2, p3, p5 = survival_probabilities\n",
    "\n",
    "    premium_leg_value = s4 * sum(exp(-discount_factor * t) * (p + q) / 2 for t, (p, q) in enumerate(zip([1, p1, p2, p3], [p1, p2, p3, p5]), start=1))\n",
    "    return premium_leg_value\n",
    "\n",
    "def protection_leg(discount_factor, survival_probabilities, recovery_rate):\n",
    "\n",
    "    p1, p2, p3, p5 = survival_probabilities\n",
    "\n",
    "    protection_leg_value = (1 - recovery_rate) * sum(exp(-discount_factor * t) * (p - q) for t, (p, q) in enumerate(zip([1, p1, p2, p3], [p1, p2, p3, p5]), start=1))\n",
    "    return protection_leg_value\n"
   ]
  },
  {
   "cell_type": "code",
   "execution_count": 104,
   "id": "11249b3c-9754-4ff2-a967-f70f6944e5c9",
   "metadata": {},
   "outputs": [
    {
     "name": "stdout",
     "output_type": "stream",
     "text": [
      "Fair Spread for 4-year CDS: [0.0116564562462268]\n"
     ]
    }
   ],
   "source": [
    "# 定义符号\n",
    "s4 = symbols('s4')\n",
    "\n",
    "premium_leg_value = premium_leg(discount_factor, survival_probabilities, s4, recovery_rate)\n",
    "protection_leg_value = protection_leg(discount_factor, survival_probabilities, recovery_rate)\n",
    "\n",
    "fair_spread_solution = solve(premium_leg_value - protection_leg_value, s4)\n",
    "\n",
    "print(\"Fair Spread for 4-year CDS:\", fair_spread_solution)\n"
   ]
  },
  {
   "cell_type": "markdown",
   "id": "c7fe106a-2efd-4289-8149-904889d4d341",
   "metadata": {},
   "source": [
    "##### (c) If you had bought a 5y CDS exactly one year ago with the contractual spread of 80bps,what would you charge me to buy it off you today"
   ]
  },
  {
   "cell_type": "code",
   "execution_count": 105,
   "id": "2affc33d-8ed3-4b5a-a443-409a0dcc651a",
   "metadata": {},
   "outputs": [],
   "source": [
    "import numpy as np\n",
    "\n",
    "def calculate_contract_value(spread, survival_probabilities, maturities, discount_rate, recovery_rate):\n",
    "    \"\"\"\n",
    "    Calculate the present value of a CDS contract based on remaining survival probabilities,\n",
    "    spread, discount rate, and recovery rate for the remaining maturities.\n",
    "    \"\"\"\n",
    "    discount_factors = np.exp(-discount_rate * maturities)\n",
    "    \n",
    "    premium_leg_value = np.sum(spread / 2 * (survival_probabilities[:-1] + survival_probabilities[1:]) * discount_factors[:-1])\n",
    "    \n",
    "    protection_leg_value = np.sum((1 - recovery_rate) * (survival_probabilities[:-1] - survival_probabilities[1:]) * discount_factors[:-1])\n",
    "    \n",
    "    return premium_leg_value - protection_leg_value\n"
   ]
  },
  {
   "cell_type": "code",
   "execution_count": 106,
   "id": "8ec7ad39-ab5b-45b6-9301-18783d8ef1e5",
   "metadata": {},
   "outputs": [
    {
     "name": "stdout",
     "output_type": "stream",
     "text": [
      "Remaining Contract Value: -0.03182062914796034\n"
     ]
    }
   ],
   "source": [
    "survival_probabilities = np.array([0.983471074380165, 0.963916788337287, 0.941435914039937, 0.888263456246023])\n",
    "\n",
    "remaining_maturities = np.array([1, 2, 3, 4])\n",
    "\n",
    "discount_factor = np.exp(-risk_free_rate * remaining_maturities)\n",
    "\n",
    "contract_spread = 0.0080  # 80bps\n",
    "\n",
    "contract_value = calculate_contract_value(contract_spread, survival_probabilities, remaining_maturities, risk_free_rate, recovery_rate)\n",
    "\n",
    "print(\"Remaining Contract Value:\", contract_value)\n"
   ]
  },
  {
   "cell_type": "markdown",
   "id": "c29a702e-3bd4-495c-b8d6-34fb20f9f9fb",
   "metadata": {},
   "source": [
    "##### (d) Working with the 4y CDS in (1.b), compute the dv01 of the CDS with respect to the CDS curve in Table 1."
   ]
  },
  {
   "cell_type": "code",
   "execution_count": 107,
   "id": "387b425c-877e-4f2c-8680-0b08a2b5934a",
   "metadata": {},
   "outputs": [
    {
     "name": "stdout",
     "output_type": "stream",
     "text": [
      "DV01 of the 4-year CDS: 0.0002678223383351941\n"
     ]
    }
   ],
   "source": [
    "original_spread = fair_spread_4y\n",
    "\n",
    "original_value = calculate_contract_value(original_spread, survival_probabilities, remaining_maturities, risk_free_rate, recovery_rate)\n",
    "\n",
    "adjusted_spread = original_spread + 0.0001\n",
    "\n",
    "adjusted_value = calculate_contract_value(adjusted_spread, survival_probabilities, remaining_maturities, risk_free_rate, recovery_rate)\n",
    "\n",
    "dv01 = abs(adjusted_value - original_value)\n",
    "\n",
    "print(\"DV01 of the 4-year CDS:\", dv01)"
   ]
  },
  {
   "cell_type": "markdown",
   "id": "470970bb-e8c8-4819-a2ab-ba1da9e8e5bc",
   "metadata": {},
   "source": [
    "#### 2. Caplet Pricing in Different Models: \n",
    "Consider a 1Y expiry 1.25% strike put option on a 1Y3m forward rate, i.e., a forward rate with 3m tenor that starts 1Y from now. Recall that in the T-Forward measure the pricing equation for a caplet put option can be written as:\n",
    "\n",
    "$$\n",
    "P(K) = \\delta D(0, T + \\delta) \\mathbb{E}\\left[ (K - F_T)^+ \\right]\n",
    "$$\n",
    "\n",
    "You may assume $\\delta = 0.25$.\n"
   ]
  },
  {
   "cell_type": "markdown",
   "id": "26224075-257a-4dca-9fbd-b50975ad96f3",
   "metadata": {},
   "source": [
    "##### (a) Suppose you conducted a bootstrapping algorithm that identified the constant instan\u0002taneous forward rate over the entire period to be 1.25%. Calculate the discount factor needed to obtain the caplet price"
   ]
  },
  {
   "cell_type": "code",
   "execution_count": 108,
   "id": "c885cfc9-4908-48b4-b293-3ac9571747ec",
   "metadata": {},
   "outputs": [
    {
     "data": {
      "text/plain": [
       "0.9844964370054085"
      ]
     },
     "execution_count": 108,
     "metadata": {},
     "output_type": "execute_result"
    }
   ],
   "source": [
    "from math import exp\n",
    "\n",
    "r = 1.25 / 100  \n",
    "T_delta = 1 + 0.25  # T + δ\n",
    "\n",
    "D_0_T_delta = exp(-r * T_delta)\n",
    "\n",
    "D_0_T_delta\n"
   ]
  },
  {
   "cell_type": "markdown",
   "id": "17e41b66-71a0-48da-85e6-264bbf4609b7",
   "metadata": {},
   "source": [
    "##### (b) Assume that the 1Y3m forward rate follows a log-normal distribution:\n",
    "$$\n",
    "dF_t = \\sigma F_t \\, dW_t\n",
    "$$\n",
    "and that σ = 0.15. You may assume a constant instantaneous forward rate of 1.25% when calculating the current forward rate, F0. Calculate the price of the option on the 1Y3m forward rate by adapting the Black-Scholes formula."
   ]
  },
  {
   "cell_type": "code",
   "execution_count": 109,
   "id": "5cd33875-dd80-41b5-b03f-8807a62d9f89",
   "metadata": {},
   "outputs": [
    {
     "data": {
      "text/plain": [
       "8.90724821917334e-05"
      ]
     },
     "execution_count": 109,
     "metadata": {},
     "output_type": "execute_result"
    }
   ],
   "source": [
    "from math import log, sqrt\n",
    "from scipy.stats import norm\n",
    "\n",
    "sigma = 0.15  \n",
    "K = 1.25 / 100  \n",
    "\n",
    "F_0 = exp(r * T_delta) - 1\n",
    "\n",
    "d_1 = (log(F_0 / K) + (0.5 * sigma ** 2) * T_delta) / (sigma * sqrt(T_delta))\n",
    "d_2 = d_1 - sigma * sqrt(T_delta)\n",
    "\n",
    "P_BS = D_0_T_delta * (K * norm.cdf(-d_2) - F_0 * norm.cdf(-d_1))\n",
    "\n",
    "P_BS\n"
   ]
  },
  {
   "cell_type": "markdown",
   "id": "57363e01-54c6-46ef-80c4-c23413b1c90b",
   "metadata": {},
   "source": [
    "##### (c) Consider the Bachelier or Normal model:\n",
    "$$\n",
    "dF_t = \\sigma_n \\, dW_t\n",
    "$$\n",
    "Calculate what you believe to be the σn that will make the Normal model best approx\u0002imate the Log-Normal model above"
   ]
  },
  {
   "cell_type": "code",
   "execution_count": 110,
   "id": "a7dc1490-a390-43f7-824a-f998168c5e76",
   "metadata": {},
   "outputs": [
    {
     "data": {
      "text/plain": [
       "0.0023621562880028588"
      ]
     },
     "execution_count": 110,
     "metadata": {},
     "output_type": "execute_result"
    }
   ],
   "source": [
    "sigma_n = F_0 * sigma\n",
    "\n",
    "sigma_n"
   ]
  },
  {
   "cell_type": "markdown",
   "id": "16d6e375-51b4-4621-a8c9-ccb0ce235aea",
   "metadata": {},
   "source": [
    "##### (d) Using this σn, calculate the price of the put option defined above (1) under the Bachelier model. Compare to the Black-Scholes model price. Are they similar? Why or why not? Which one is higher? Why?"
   ]
  },
  {
   "cell_type": "code",
   "execution_count": 111,
   "id": "de6a0457-e284-457e-aef2-13664e3d75b6",
   "metadata": {},
   "outputs": [
    {
     "data": {
      "text/plain": [
       "(3.429766455121045e-05, 8.90724821917334e-05)"
      ]
     },
     "execution_count": 111,
     "metadata": {},
     "output_type": "execute_result"
    }
   ],
   "source": [
    "delta = 0.25\n",
    "\n",
    "d_prime = (K - F_0) / (sigma_n * sqrt(T_delta))\n",
    "\n",
    "P_Bachelier = delta * D_0_T_delta * ((K - F_0) * norm.cdf(d_prime) + sigma_n * sqrt(T_delta) * norm.pdf(d_prime))\n",
    "\n",
    "P_Bachelier\n",
    "\n",
    "P_Bachelier, P_BS\n"
   ]
  },
  {
   "cell_type": "markdown",
   "id": "be86998f-69cc-4652-8beb-1d766f2fb0c9",
   "metadata": {},
   "source": [
    "Black-Scholes model gives a higher option price.  \n",
    "The prices from the two models are not identical because they make different assumptions about the asset price dynamics:\n",
    "- The **Black-Scholes model** assumes asset prices follow a lognormal distribution.    This means the asset price changes are percentage changes, so the absolute value of the changes increases with higher asset prices.    As a result, when asset prices or forward rates are higher, this model tends to show higher volatility, which can lead to higher option values.\n",
    "\n",
    "- The **Bachelier model** assumes asset prices follow a normal distribution.    In this model, the asset price changes are fixed absolute amounts, independent of the current asset price.    Therefore, for low volatility or lower priced assets, the Bachelier model may provide more reasonable option pricing.\n"
   ]
  },
  {
   "cell_type": "markdown",
   "id": "e6910fef-2f6f-45af-b5e0-9b4b4d3ba304",
   "metadata": {},
   "source": [
    "#### 3. Stripping Caplet Volatilities:"
   ]
  },
  {
   "cell_type": "markdown",
   "id": "e098692f-4a3e-44bd-84f0-007ee707c7c7",
   "metadata": {},
   "source": [
    "##### (a) Consider the following table of two-year at-the-money cap volatilities under the Black’s model:\n",
    "\n",
    "| Start | Length Black |Black Vol |\n",
    "|------|----------|----------|\n",
    "| 1Y   |  2Y   |0.15   |\n",
    "| 2Y   |  2Y    |0.2   |\n",
    "| 3Y   |  2Y    |0.225   |\n",
    "| 4Y   |  2Y    |0.225   |\n",
    "| 5Y   |  2Y    |0.25   |\n",
    "\n",
    "Assume that caplets are paid quarterly on three-month forward rates each with δ = 0.25. Further assume a flat interest rate curve with 1% instantaneous forward rates along the entire curve. Calculate the price of each cap using Black’s model."
   ]
  },
  {
   "cell_type": "code",
   "execution_count": 112,
   "id": "2204b872-21b7-4acd-8a2a-3c8c7b997f31",
   "metadata": {},
   "outputs": [
    {
     "data": {
      "text/plain": [
       "[0.001584212393016439,\n",
       " 0.002601553278139788,\n",
       " 0.0033610515141422265,\n",
       " 0.0037287863450408396,\n",
       " 0.0044833720099149675]"
      ]
     },
     "execution_count": 112,
     "metadata": {},
     "output_type": "execute_result"
    }
   ],
   "source": [
    "# Constants\n",
    "delta = 0.25  # Tenor of each caplet\n",
    "r = 0.01  # Flat interest rate curve\n",
    "F = 0.01  # Forward rate\n",
    "K = 0.01  # Strike rate, at-the-money\n",
    "\n",
    "# Black volatilities and start periods\n",
    "black_vols = [0.15, 0.2, 0.225, 0.225, 0.25]\n",
    "start_years = [1, 2, 3, 4, 5]  # Start periods for each cap\n",
    "\n",
    "# Function to calculate the price of a caplet using Black's model\n",
    "def caplet_price(sigma, T):\n",
    "    d1 = (np.log(F/K) + 0.5 * sigma**2 * T) / (sigma * np.sqrt(T))\n",
    "    d2 = d1 - sigma * np.sqrt(T)\n",
    "    P_t_T = np.exp(-r * T)  # Present value factor\n",
    "    price = delta * P_t_T * (F * norm.cdf(d1) - K * norm.cdf(d2))\n",
    "    return price\n",
    "\n",
    "# Calculate the price of each cap by summing the prices of its caplets\n",
    "cap_prices = []\n",
    "for i, vol in enumerate(black_vols):\n",
    "    T = start_years[i]  # Time to maturity for the caplets in the cap\n",
    "    # Number of caplets in the cap\n",
    "    num_caplets = 4 * 2  # 4 quarters per year, over 2 years\n",
    "    cap_price = sum([caplet_price(vol, T + j*delta) for j in range(num_caplets)])\n",
    "    cap_prices.append(cap_price)\n",
    "\n",
    "cap_prices\n"
   ]
  },
  {
   "cell_type": "markdown",
   "id": "066cac0e-c3c2-44eb-b61f-f091a30a422b",
   "metadata": {},
   "source": [
    "##### (b) Extract the Black-Scholes at-the-money implied volatilities for each caplet from the provided set of cap volatilities. Comment on the shape of the caplet vs. cap volatilities."
   ]
  },
  {
   "cell_type": "code",
   "execution_count": 113,
   "id": "0ea3db9c-7525-40e0-ae25-49cf262352b9",
   "metadata": {},
   "outputs": [],
   "source": [
    "def discount(begin,end,f):\n",
    "    return np.exp(-(end-begin)*f)\n",
    "    \n",
    "def bsfac(f0,k,sigma,t):\n",
    "    d1 = (np.log(f0/k) + 0.5 * sigma**2 * t)/sigma/t**0.5\n",
    "    d2 = (np.log(f0/k) - 0.5 * sigma**2 * t)/sigma/t**0.5\n",
    "    prep =  0.25 * (k * norm.cdf(-d2) - f0 * norm.cdf(-d1) )\n",
    "\n",
    "    return prep\n",
    "    \n",
    "def caplet_vol(nsigma,price,head,osigma):\n",
    "    price1 = 0\n",
    "    price2 = 0\n",
    "    for i in range(4):\n",
    "        price1 = price1 + discount(0,head-1+(i-1)*0.25,f) * bsfac(f0,k,osigma,head-1+i*0.25)\n",
    "        price2 = price2 + discount(0,head+(i-1)*0.25,f) * bsfac(f0,k,nsigma,head+i*0.25)\n",
    "        \n",
    "    return price1 + price2 - price\n",
    "\n",
    "def root_vol(fir_sigma,price):\n",
    "    volst = [fir_sigma]\n",
    "    sigma = fir_sigma\n",
    "    for i in range(3,7):\n",
    "        func = root(caplet_vol,sigma,args=(price[i-2],i,sigma))\n",
    "        sigma = func.x[0]\n",
    "        volst += [sigma]\n",
    "    \n",
    "    \n",
    "    return volst"
   ]
  },
  {
   "cell_type": "code",
   "execution_count": 114,
   "id": "e42c412b-4e12-4855-a105-2932d46c1f46",
   "metadata": {},
   "outputs": [
    {
     "data": {
      "text/plain": [
       "<matplotlib.legend.Legend at 0x121d62dc0>"
      ]
     },
     "execution_count": 114,
     "metadata": {},
     "output_type": "execute_result"
    },
    {
     "data": {
      "image/png": "[encoded data removed]",
      "text/plain": [
       "<Figure size 640x480 with 1 Axes>"
      ]
     },
     "metadata": {},
     "output_type": "display_data"
    }
   ],
   "source": [
    "#visualize\n",
    "t = np.linspace(1, 7, 24, endpoint = False)\n",
    "caplet = np.repeat(np.array(volst), [8, 4, 4, 4, 4], axis = 0)\n",
    "caps = [0.15,0.2,0.225,0.225,0.25]\n",
    "\n",
    "plt.title(\"Shape of caplet vs. cap volatilities\")\n",
    "plt.xlabel(\"Times\")\n",
    "plt.ylabel(\"Volatility\")\n",
    "plt.plot(t, caplet, label = \"caplet\")\n",
    "plt.hlines(caps[0], xmin = 1, xmax = 2.75, color = 'r',label = \"1Y\")\n",
    "plt.hlines(caps[1], xmin = 2, xmax = 3.75, color = 'm',label = \"2Y\")\n",
    "plt.hlines(caps[2], xmin = 3, xmax = 4.75, color= 'y',label = \"3Y\")\n",
    "plt.hlines(caps[3], xmin = 4, xmax = 5.75, color = 'g',label = \"4Y\")\n",
    "plt.hlines(caps[4], xmin = 5, xmax = 6.75, color = 'c',label = \"5Y\")\n",
    "plt.legend()"
   ]
  },
  {
   "cell_type": "markdown",
   "id": "671fc212-34c4-4aa3-922e-640300719a88",
   "metadata": {},
   "source": [
    "1. **Stair-step Pattern for Caplets**: The volatility of the caplet shows a stair-step pattern, which suggests that the volatility changes at discrete points in time rather than continuously. \n",
    "\n",
    "2. **Flat Lines for Caps**: The lines representing the cap volatilities for 1Y, 2Y, 3Y, 4Y, and 5Y are flat, indicating that the cap volatilities for these maturities are constant over time.\n",
    "\n",
    "3. **Differences Between Caplet and Cap Volatilities**: The plot may suggest that the volatility surface is not flat and that the market is pricing in different volatilities for different reset periods. The fact that cap volatilities are flat across different maturities might suggest that the market is not expecting significant changes in volatility over the long term, or that it is averaging out the variations seen in the short-term caplet volatilities.\n"
   ]
  },
  {
   "cell_type": "code",
   "execution_count": null,
   "id": "610861fa-4e6f-48b2-bbd9-09b883b122ea",
   "metadata": {},
   "outputs": [],
   "source": []
  },
  {
   "cell_type": "code",
   "execution_count": null,
   "id": "be10e7b7-098a-4cca-a095-4621331b4886",
   "metadata": {},
   "outputs": [],
   "source": []
  },
  {
   "cell_type": "code",
   "execution_count": null,
   "id": "f9cc3190-b5b1-4a93-afa1-27465322791b",
   "metadata": {},
   "outputs": [],
   "source": []
  }
 ],
 "metadata": {
  "kernelspec": {
   "display_name": "Python 3 (ipykernel)",
   "language": "python",
   "name": "python3"
  },
  "language_info": {
   "codemirror_mode": {
    "name": "ipython",
    "version": 3
   },
   "file_extension": ".py",
   "mimetype": "text/x-python",
   "name": "python",
   "nbconvert_exporter": "python",
   "pygments_lexer": "ipython3",
   "version": "3.9.16"
  }
 },
 "nbformat": 4,
 "nbformat_minor": 5
}
